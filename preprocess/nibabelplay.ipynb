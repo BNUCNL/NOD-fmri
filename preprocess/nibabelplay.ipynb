{
 "cells": [
  {
   "cell_type": "code",
   "execution_count": 1,
   "metadata": {
    "collapsed": true
   },
   "outputs": [],
   "source": [
    "import os\n",
    "import numpy as np\n",
    "import nibabel as nib"
   ]
  },
  {
   "cell_type": "code",
   "execution_count": 11,
   "metadata": {
    "collapsed": true
   },
   "outputs": [
    {
     "name": "stdout",
     "output_type": "stream",
     "text": [
      "sub-core02_ses-ImageNet02_task-object_run-10_AROMAnoiseICs.csv\r\n",
      "sub-core02_ses-ImageNet02_task-object_run-10_desc-confounds_timeseries.json\r\n",
      "sub-core02_ses-ImageNet02_task-object_run-10_desc-confounds_timeseries.tsv\r\n",
      "sub-core02_ses-ImageNet02_task-object_run-10_desc-MELODIC_mixing.tsv\r\n",
      "sub-core02_ses-ImageNet02_task-object_run-10_from-scanner_to-T1w_mode-image_xfm.txt\r\n",
      "sub-core02_ses-ImageNet02_task-object_run-10_from-T1w_to-scanner_mode-image_xfm.txt\r\n",
      "sub-core02_ses-ImageNet02_task-object_run-10_space-fsLR_den-91k_bold.dtseries.json\r\n",
      "sub-core02_ses-ImageNet02_task-object_run-10_space-fsLR_den-91k_bold.dtseries.nii\r\n",
      "sub-core02_ses-ImageNet02_task-object_run-10_space-fsLR_den-91k_bold.json\r\n",
      "sub-core02_ses-ImageNet02_task-object_run-10_space-fsnative_hemi-L_bold.func.gii\r\n",
      "sub-core02_ses-ImageNet02_task-object_run-10_space-fsnative_hemi-L_bold.json\r\n",
      "sub-core02_ses-ImageNet02_task-object_run-10_space-fsnative_hemi-R_bold.func.gii\r\n",
      "sub-core02_ses-ImageNet02_task-object_run-10_space-fsnative_hemi-R_bold.json\r\n",
      "\u001b[0m\u001b[01;31msub-core02_ses-ImageNet02_task-object_run-10_space-MNI152NLin2009cAsym_res-2_boldref.nii.gz\u001b[0m\u001b[K\r\n",
      "\u001b[01;31msub-core02_ses-ImageNet02_task-object_run-10_space-MNI152NLin2009cAsym_res-2_desc-aparcaseg_dseg.nii.gz\u001b[0m\u001b[K\r\n",
      "\u001b[01;31msub-core02_ses-ImageNet02_task-object_run-10_space-MNI152NLin2009cAsym_res-2_desc-aseg_dseg.nii.gz\u001b[0m\u001b[K\r\n",
      "sub-core02_ses-ImageNet02_task-object_run-10_space-MNI152NLin2009cAsym_res-2_desc-brain_mask.json\r\n",
      "\u001b[01;31msub-core02_ses-ImageNet02_task-object_run-10_space-MNI152NLin2009cAsym_res-2_desc-brain_mask.nii.gz\u001b[0m\u001b[K\r\n",
      "sub-core02_ses-ImageNet02_task-object_run-10_space-MNI152NLin2009cAsym_res-2_desc-preproc_bold.json\r\n",
      "\u001b[01;31msub-core02_ses-ImageNet02_task-object_run-10_space-MNI152NLin2009cAsym_res-2_desc-preproc_bold.nii.gz\u001b[0m\u001b[K\r\n",
      "sub-core02_ses-ImageNet02_task-object_run-10_space-MNI152NLin6Asym_desc-smoothAROMAnonaggr_bold.json\r\n",
      "\u001b[01;31msub-core02_ses-ImageNet02_task-object_run-10_space-MNI152NLin6Asym_desc-smoothAROMAnonaggr_bold.nii.gz\u001b[0m\u001b[K\r\n",
      "\u001b[01;31msub-core02_ses-ImageNet02_task-object_run-10_space-T1w_boldref.nii.gz\u001b[0m\r\n",
      "\u001b[01;31msub-core02_ses-ImageNet02_task-object_run-10_space-T1w_desc-aparcaseg_dseg.nii.gz\u001b[0m\u001b[K\r\n",
      "\u001b[01;31msub-core02_ses-ImageNet02_task-object_run-10_space-T1w_desc-aseg_dseg.nii.gz\u001b[0m\r\n",
      "sub-core02_ses-ImageNet02_task-object_run-10_space-T1w_desc-brain_mask.json\r\n",
      "\u001b[01;31msub-core02_ses-ImageNet02_task-object_run-10_space-T1w_desc-brain_mask.nii.gz\u001b[0m\r\n",
      "sub-core02_ses-ImageNet02_task-object_run-10_space-T1w_desc-preproc_bold.json\r\n",
      "\u001b[01;31msub-core02_ses-ImageNet02_task-object_run-10_space-T1w_desc-preproc_bold.nii.gz\u001b[0m\r\n",
      "sub-core02_ses-ImageNet02_task-object_run-1_AROMAnoiseICs.csv\r\n",
      "sub-core02_ses-ImageNet02_task-object_run-1_desc-confounds_timeseries.json\r\n",
      "sub-core02_ses-ImageNet02_task-object_run-1_desc-confounds_timeseries.tsv\r\n",
      "sub-core02_ses-ImageNet02_task-object_run-1_desc-MELODIC_mixing.tsv\r\n",
      "sub-core02_ses-ImageNet02_task-object_run-1_from-scanner_to-T1w_mode-image_xfm.txt\r\n",
      "sub-core02_ses-ImageNet02_task-object_run-1_from-T1w_to-scanner_mode-image_xfm.txt\r\n",
      "sub-core02_ses-ImageNet02_task-object_run-1_space-fsLR_den-91k_bold.dtseries.json\r\n",
      "sub-core02_ses-ImageNet02_task-object_run-1_space-fsLR_den-91k_bold.dtseries.nii\r\n",
      "sub-core02_ses-ImageNet02_task-object_run-1_space-fsLR_den-91k_bold.json\r\n",
      "sub-core02_ses-ImageNet02_task-object_run-1_space-fsnative_hemi-L_bold.func.gii\r\n",
      "sub-core02_ses-ImageNet02_task-object_run-1_space-fsnative_hemi-L_bold.json\r\n",
      "sub-core02_ses-ImageNet02_task-object_run-1_space-fsnative_hemi-R_bold.func.gii\r\n",
      "sub-core02_ses-ImageNet02_task-object_run-1_space-fsnative_hemi-R_bold.json\r\n",
      "\u001b[01;31msub-core02_ses-ImageNet02_task-object_run-1_space-MNI152NLin2009cAsym_res-2_boldref.nii.gz\u001b[0m\u001b[K\r\n",
      "\u001b[01;31msub-core02_ses-ImageNet02_task-object_run-1_space-MNI152NLin2009cAsym_res-2_desc-aparcaseg_dseg.nii.gz\u001b[0m\u001b[K\r\n",
      "\u001b[01;31msub-core02_ses-ImageNet02_task-object_run-1_space-MNI152NLin2009cAsym_res-2_desc-aseg_dseg.nii.gz\u001b[0m\u001b[K\r\n",
      "sub-core02_ses-ImageNet02_task-object_run-1_space-MNI152NLin2009cAsym_res-2_desc-brain_mask.json\r\n",
      "\u001b[01;31msub-core02_ses-ImageNet02_task-object_run-1_space-MNI152NLin2009cAsym_res-2_desc-brain_mask.nii.gz\u001b[0m\u001b[K\r\n",
      "sub-core02_ses-ImageNet02_task-object_run-1_space-MNI152NLin2009cAsym_res-2_desc-preproc_bold.json\r\n",
      "\u001b[01;31msub-core02_ses-ImageNet02_task-object_run-1_space-MNI152NLin2009cAsym_res-2_desc-preproc_bold.nii.gz\u001b[0m\u001b[K\r\n",
      "sub-core02_ses-ImageNet02_task-object_run-1_space-MNI152NLin6Asym_desc-smoothAROMAnonaggr_bold.json\r\n",
      "\u001b[01;31msub-core02_ses-ImageNet02_task-object_run-1_space-MNI152NLin6Asym_desc-smoothAROMAnonaggr_bold.nii.gz\u001b[0m\u001b[K\r\n",
      "\u001b[01;31msub-core02_ses-ImageNet02_task-object_run-1_space-T1w_boldref.nii.gz\u001b[0m\r\n",
      "\u001b[01;31msub-core02_ses-ImageNet02_task-object_run-1_space-T1w_desc-aparcaseg_dseg.nii.gz\u001b[0m\r\n",
      "\u001b[01;31msub-core02_ses-ImageNet02_task-object_run-1_space-T1w_desc-aseg_dseg.nii.gz\u001b[0m\r\n",
      "sub-core02_ses-ImageNet02_task-object_run-1_space-T1w_desc-brain_mask.json\r\n",
      "\u001b[01;31msub-core02_ses-ImageNet02_task-object_run-1_space-T1w_desc-brain_mask.nii.gz\u001b[0m\r\n",
      "sub-core02_ses-ImageNet02_task-object_run-1_space-T1w_desc-preproc_bold.json\r\n",
      "\u001b[01;31msub-core02_ses-ImageNet02_task-object_run-1_space-T1w_desc-preproc_bold.nii.gz\u001b[0m\r\n",
      "sub-core02_ses-ImageNet02_task-object_run-2_AROMAnoiseICs.csv\r\n",
      "sub-core02_ses-ImageNet02_task-object_run-2_desc-confounds_timeseries.json\r\n",
      "sub-core02_ses-ImageNet02_task-object_run-2_desc-confounds_timeseries.tsv\r\n",
      "sub-core02_ses-ImageNet02_task-object_run-2_desc-MELODIC_mixing.tsv\r\n",
      "sub-core02_ses-ImageNet02_task-object_run-2_from-scanner_to-T1w_mode-image_xfm.txt\r\n",
      "sub-core02_ses-ImageNet02_task-object_run-2_from-T1w_to-scanner_mode-image_xfm.txt\r\n",
      "sub-core02_ses-ImageNet02_task-object_run-2_space-fsLR_den-91k_bold.dtseries.json\r\n",
      "sub-core02_ses-ImageNet02_task-object_run-2_space-fsLR_den-91k_bold.dtseries.nii\r\n",
      "sub-core02_ses-ImageNet02_task-object_run-2_space-fsLR_den-91k_bold.json\r\n",
      "sub-core02_ses-ImageNet02_task-object_run-2_space-fsnative_hemi-L_bold.func.gii\r\n",
      "sub-core02_ses-ImageNet02_task-object_run-2_space-fsnative_hemi-L_bold.json\r\n",
      "sub-core02_ses-ImageNet02_task-object_run-2_space-fsnative_hemi-R_bold.func.gii\r\n",
      "sub-core02_ses-ImageNet02_task-object_run-2_space-fsnative_hemi-R_bold.json\r\n",
      "\u001b[01;31msub-core02_ses-ImageNet02_task-object_run-2_space-MNI152NLin2009cAsym_res-2_boldref.nii.gz\u001b[0m\u001b[K\r\n",
      "\u001b[01;31msub-core02_ses-ImageNet02_task-object_run-2_space-MNI152NLin2009cAsym_res-2_desc-aparcaseg_dseg.nii.gz\u001b[0m\u001b[K\r\n",
      "\u001b[01;31msub-core02_ses-ImageNet02_task-object_run-2_space-MNI152NLin2009cAsym_res-2_desc-aseg_dseg.nii.gz\u001b[0m\u001b[K\r\n",
      "sub-core02_ses-ImageNet02_task-object_run-2_space-MNI152NLin2009cAsym_res-2_desc-brain_mask.json\r\n",
      "\u001b[01;31msub-core02_ses-ImageNet02_task-object_run-2_space-MNI152NLin2009cAsym_res-2_desc-brain_mask.nii.gz\u001b[0m\u001b[K\r\n",
      "sub-core02_ses-ImageNet02_task-object_run-2_space-MNI152NLin2009cAsym_res-2_desc-preproc_bold.json\r\n",
      "\u001b[01;31msub-core02_ses-ImageNet02_task-object_run-2_space-MNI152NLin2009cAsym_res-2_desc-preproc_bold.nii.gz\u001b[0m\u001b[K\r\n",
      "sub-core02_ses-ImageNet02_task-object_run-2_space-MNI152NLin6Asym_desc-smoothAROMAnonaggr_bold.json\r\n",
      "\u001b[01;31msub-core02_ses-ImageNet02_task-object_run-2_space-MNI152NLin6Asym_desc-smoothAROMAnonaggr_bold.nii.gz\u001b[0m\u001b[K\r\n",
      "\u001b[01;31msub-core02_ses-ImageNet02_task-object_run-2_space-T1w_boldref.nii.gz\u001b[0m\r\n",
      "\u001b[01;31msub-core02_ses-ImageNet02_task-object_run-2_space-T1w_desc-aparcaseg_dseg.nii.gz\u001b[0m\r\n",
      "\u001b[01;31msub-core02_ses-ImageNet02_task-object_run-2_space-T1w_desc-aseg_dseg.nii.gz\u001b[0m\r\n",
      "sub-core02_ses-ImageNet02_task-object_run-2_space-T1w_desc-brain_mask.json\r\n",
      "\u001b[01;31msub-core02_ses-ImageNet02_task-object_run-2_space-T1w_desc-brain_mask.nii.gz\u001b[0m\r\n",
      "sub-core02_ses-ImageNet02_task-object_run-2_space-T1w_desc-preproc_bold.json\r\n",
      "\u001b[01;31msub-core02_ses-ImageNet02_task-object_run-2_space-T1w_desc-preproc_bold.nii.gz\u001b[0m\r\n",
      "sub-core02_ses-ImageNet02_task-object_run-3_AROMAnoiseICs.csv\r\n",
      "sub-core02_ses-ImageNet02_task-object_run-3_desc-confounds_timeseries.json\r\n",
      "sub-core02_ses-ImageNet02_task-object_run-3_desc-confounds_timeseries.tsv\r\n",
      "sub-core02_ses-ImageNet02_task-object_run-3_desc-MELODIC_mixing.tsv\r\n",
      "sub-core02_ses-ImageNet02_task-object_run-3_from-scanner_to-T1w_mode-image_xfm.txt\r\n",
      "sub-core02_ses-ImageNet02_task-object_run-3_from-T1w_to-scanner_mode-image_xfm.txt\r\n",
      "sub-core02_ses-ImageNet02_task-object_run-3_space-fsLR_den-91k_bold.dtseries.json\r\n",
      "sub-core02_ses-ImageNet02_task-object_run-3_space-fsLR_den-91k_bold.dtseries.nii\r\n",
      "sub-core02_ses-ImageNet02_task-object_run-3_space-fsLR_den-91k_bold.json\r\n",
      "sub-core02_ses-ImageNet02_task-object_run-3_space-fsnative_hemi-L_bold.func.gii\r\n",
      "sub-core02_ses-ImageNet02_task-object_run-3_space-fsnative_hemi-L_bold.json\r\n",
      "sub-core02_ses-ImageNet02_task-object_run-3_space-fsnative_hemi-R_bold.func.gii\r\n",
      "sub-core02_ses-ImageNet02_task-object_run-3_space-fsnative_hemi-R_bold.json\r\n",
      "\u001b[01;31msub-core02_ses-ImageNet02_task-object_run-3_space-MNI152NLin2009cAsym_res-2_boldref.nii.gz\u001b[0m\u001b[K\r\n",
      "\u001b[01;31msub-core02_ses-ImageNet02_task-object_run-3_space-MNI152NLin2009cAsym_res-2_desc-aparcaseg_dseg.nii.gz\u001b[0m\u001b[K\r\n",
      "\u001b[01;31msub-core02_ses-ImageNet02_task-object_run-3_space-MNI152NLin2009cAsym_res-2_desc-aseg_dseg.nii.gz\u001b[0m\u001b[K\r\n",
      "sub-core02_ses-ImageNet02_task-object_run-3_space-MNI152NLin2009cAsym_res-2_desc-brain_mask.json\r\n",
      "\u001b[01;31msub-core02_ses-ImageNet02_task-object_run-3_space-MNI152NLin2009cAsym_res-2_desc-brain_mask.nii.gz\u001b[0m\u001b[K\r\n",
      "sub-core02_ses-ImageNet02_task-object_run-3_space-MNI152NLin2009cAsym_res-2_desc-preproc_bold.json\r\n",
      "\u001b[01;31msub-core02_ses-ImageNet02_task-object_run-3_space-MNI152NLin2009cAsym_res-2_desc-preproc_bold.nii.gz\u001b[0m\u001b[K\r\n",
      "sub-core02_ses-ImageNet02_task-object_run-3_space-MNI152NLin6Asym_desc-smoothAROMAnonaggr_bold.json\r\n",
      "\u001b[01;31msub-core02_ses-ImageNet02_task-object_run-3_space-MNI152NLin6Asym_desc-smoothAROMAnonaggr_bold.nii.gz\u001b[0m\u001b[K\r\n",
      "\u001b[01;31msub-core02_ses-ImageNet02_task-object_run-3_space-T1w_boldref.nii.gz\u001b[0m\r\n",
      "\u001b[01;31msub-core02_ses-ImageNet02_task-object_run-3_space-T1w_desc-aparcaseg_dseg.nii.gz\u001b[0m\r\n",
      "\u001b[01;31msub-core02_ses-ImageNet02_task-object_run-3_space-T1w_desc-aseg_dseg.nii.gz\u001b[0m\r\n",
      "sub-core02_ses-ImageNet02_task-object_run-3_space-T1w_desc-brain_mask.json\r\n",
      "\u001b[01;31msub-core02_ses-ImageNet02_task-object_run-3_space-T1w_desc-brain_mask.nii.gz\u001b[0m\r\n",
      "sub-core02_ses-ImageNet02_task-object_run-3_space-T1w_desc-preproc_bold.json\r\n",
      "\u001b[01;31msub-core02_ses-ImageNet02_task-object_run-3_space-T1w_desc-preproc_bold.nii.gz\u001b[0m\r\n",
      "sub-core02_ses-ImageNet02_task-object_run-4_AROMAnoiseICs.csv\r\n",
      "sub-core02_ses-ImageNet02_task-object_run-4_desc-confounds_timeseries.json\r\n",
      "sub-core02_ses-ImageNet02_task-object_run-4_desc-confounds_timeseries.tsv\r\n",
      "sub-core02_ses-ImageNet02_task-object_run-4_desc-MELODIC_mixing.tsv\r\n",
      "sub-core02_ses-ImageNet02_task-object_run-4_from-scanner_to-T1w_mode-image_xfm.txt\r\n",
      "sub-core02_ses-ImageNet02_task-object_run-4_from-T1w_to-scanner_mode-image_xfm.txt\r\n",
      "sub-core02_ses-ImageNet02_task-object_run-4_space-fsLR_den-91k_bold.dtseries.json\r\n",
      "sub-core02_ses-ImageNet02_task-object_run-4_space-fsLR_den-91k_bold.dtseries.nii\r\n",
      "sub-core02_ses-ImageNet02_task-object_run-4_space-fsLR_den-91k_bold.json\r\n",
      "sub-core02_ses-ImageNet02_task-object_run-4_space-fsnative_hemi-L_bold.func.gii\r\n",
      "sub-core02_ses-ImageNet02_task-object_run-4_space-fsnative_hemi-L_bold.json\r\n",
      "sub-core02_ses-ImageNet02_task-object_run-4_space-fsnative_hemi-R_bold.func.gii\r\n",
      "sub-core02_ses-ImageNet02_task-object_run-4_space-fsnative_hemi-R_bold.json\r\n",
      "\u001b[01;31msub-core02_ses-ImageNet02_task-object_run-4_space-MNI152NLin2009cAsym_res-2_boldref.nii.gz\u001b[0m\u001b[K\r\n",
      "\u001b[01;31msub-core02_ses-ImageNet02_task-object_run-4_space-MNI152NLin2009cAsym_res-2_desc-aparcaseg_dseg.nii.gz\u001b[0m\u001b[K\r\n",
      "\u001b[01;31msub-core02_ses-ImageNet02_task-object_run-4_space-MNI152NLin2009cAsym_res-2_desc-aseg_dseg.nii.gz\u001b[0m\u001b[K\r\n",
      "sub-core02_ses-ImageNet02_task-object_run-4_space-MNI152NLin2009cAsym_res-2_desc-brain_mask.json\r\n",
      "\u001b[01;31msub-core02_ses-ImageNet02_task-object_run-4_space-MNI152NLin2009cAsym_res-2_desc-brain_mask.nii.gz\u001b[0m\u001b[K\r\n",
      "sub-core02_ses-ImageNet02_task-object_run-4_space-MNI152NLin2009cAsym_res-2_desc-preproc_bold.json\r\n",
      "\u001b[01;31msub-core02_ses-ImageNet02_task-object_run-4_space-MNI152NLin2009cAsym_res-2_desc-preproc_bold.nii.gz\u001b[0m\u001b[K\r\n",
      "sub-core02_ses-ImageNet02_task-object_run-4_space-MNI152NLin6Asym_desc-smoothAROMAnonaggr_bold.json\r\n",
      "\u001b[01;31msub-core02_ses-ImageNet02_task-object_run-4_space-MNI152NLin6Asym_desc-smoothAROMAnonaggr_bold.nii.gz\u001b[0m\u001b[K\r\n",
      "\u001b[01;31msub-core02_ses-ImageNet02_task-object_run-4_space-T1w_boldref.nii.gz\u001b[0m\r\n",
      "\u001b[01;31msub-core02_ses-ImageNet02_task-object_run-4_space-T1w_desc-aparcaseg_dseg.nii.gz\u001b[0m\r\n",
      "\u001b[01;31msub-core02_ses-ImageNet02_task-object_run-4_space-T1w_desc-aseg_dseg.nii.gz\u001b[0m\r\n",
      "sub-core02_ses-ImageNet02_task-object_run-4_space-T1w_desc-brain_mask.json\r\n",
      "\u001b[01;31msub-core02_ses-ImageNet02_task-object_run-4_space-T1w_desc-brain_mask.nii.gz\u001b[0m\r\n",
      "sub-core02_ses-ImageNet02_task-object_run-4_space-T1w_desc-preproc_bold.json\r\n",
      "\u001b[01;31msub-core02_ses-ImageNet02_task-object_run-4_space-T1w_desc-preproc_bold.nii.gz\u001b[0m\r\n",
      "sub-core02_ses-ImageNet02_task-object_run-5_AROMAnoiseICs.csv\r\n",
      "sub-core02_ses-ImageNet02_task-object_run-5_desc-confounds_timeseries.json\r\n",
      "sub-core02_ses-ImageNet02_task-object_run-5_desc-confounds_timeseries.tsv\r\n",
      "sub-core02_ses-ImageNet02_task-object_run-5_desc-MELODIC_mixing.tsv\r\n",
      "sub-core02_ses-ImageNet02_task-object_run-5_from-scanner_to-T1w_mode-image_xfm.txt\r\n",
      "sub-core02_ses-ImageNet02_task-object_run-5_from-T1w_to-scanner_mode-image_xfm.txt\r\n",
      "sub-core02_ses-ImageNet02_task-object_run-5_space-fsLR_den-91k_bold.dtseries.json\r\n",
      "sub-core02_ses-ImageNet02_task-object_run-5_space-fsLR_den-91k_bold.dtseries.nii\r\n",
      "sub-core02_ses-ImageNet02_task-object_run-5_space-fsLR_den-91k_bold.json\r\n",
      "sub-core02_ses-ImageNet02_task-object_run-5_space-fsnative_hemi-L_bold.func.gii\r\n",
      "sub-core02_ses-ImageNet02_task-object_run-5_space-fsnative_hemi-L_bold.json\r\n",
      "sub-core02_ses-ImageNet02_task-object_run-5_space-fsnative_hemi-R_bold.func.gii\r\n",
      "sub-core02_ses-ImageNet02_task-object_run-5_space-fsnative_hemi-R_bold.json\r\n",
      "\u001b[01;31msub-core02_ses-ImageNet02_task-object_run-5_space-MNI152NLin2009cAsym_res-2_boldref.nii.gz\u001b[0m\u001b[K\r\n",
      "\u001b[01;31msub-core02_ses-ImageNet02_task-object_run-5_space-MNI152NLin2009cAsym_res-2_desc-aparcaseg_dseg.nii.gz\u001b[0m\u001b[K\r\n",
      "\u001b[01;31msub-core02_ses-ImageNet02_task-object_run-5_space-MNI152NLin2009cAsym_res-2_desc-aseg_dseg.nii.gz\u001b[0m\u001b[K\r\n",
      "sub-core02_ses-ImageNet02_task-object_run-5_space-MNI152NLin2009cAsym_res-2_desc-brain_mask.json\r\n",
      "\u001b[01;31msub-core02_ses-ImageNet02_task-object_run-5_space-MNI152NLin2009cAsym_res-2_desc-brain_mask.nii.gz\u001b[0m\u001b[K\r\n",
      "sub-core02_ses-ImageNet02_task-object_run-5_space-MNI152NLin2009cAsym_res-2_desc-preproc_bold.json\r\n",
      "\u001b[01;31msub-core02_ses-ImageNet02_task-object_run-5_space-MNI152NLin2009cAsym_res-2_desc-preproc_bold.nii.gz\u001b[0m\u001b[K\r\n",
      "sub-core02_ses-ImageNet02_task-object_run-5_space-MNI152NLin6Asym_desc-smoothAROMAnonaggr_bold.json\r\n",
      "\u001b[01;31msub-core02_ses-ImageNet02_task-object_run-5_space-MNI152NLin6Asym_desc-smoothAROMAnonaggr_bold.nii.gz\u001b[0m\u001b[K\r\n",
      "\u001b[01;31msub-core02_ses-ImageNet02_task-object_run-5_space-T1w_boldref.nii.gz\u001b[0m\r\n",
      "\u001b[01;31msub-core02_ses-ImageNet02_task-object_run-5_space-T1w_desc-aparcaseg_dseg.nii.gz\u001b[0m\r\n",
      "\u001b[01;31msub-core02_ses-ImageNet02_task-object_run-5_space-T1w_desc-aseg_dseg.nii.gz\u001b[0m\r\n",
      "sub-core02_ses-ImageNet02_task-object_run-5_space-T1w_desc-brain_mask.json\r\n",
      "\u001b[01;31msub-core02_ses-ImageNet02_task-object_run-5_space-T1w_desc-brain_mask.nii.gz\u001b[0m\r\n",
      "sub-core02_ses-ImageNet02_task-object_run-5_space-T1w_desc-preproc_bold.json\r\n",
      "\u001b[01;31msub-core02_ses-ImageNet02_task-object_run-5_space-T1w_desc-preproc_bold.nii.gz\u001b[0m\r\n",
      "sub-core02_ses-ImageNet02_task-object_run-6_AROMAnoiseICs.csv\r\n",
      "sub-core02_ses-ImageNet02_task-object_run-6_desc-confounds_timeseries.json\r\n",
      "sub-core02_ses-ImageNet02_task-object_run-6_desc-confounds_timeseries.tsv\r\n",
      "sub-core02_ses-ImageNet02_task-object_run-6_desc-MELODIC_mixing.tsv\r\n",
      "sub-core02_ses-ImageNet02_task-object_run-6_from-scanner_to-T1w_mode-image_xfm.txt\r\n",
      "sub-core02_ses-ImageNet02_task-object_run-6_from-T1w_to-scanner_mode-image_xfm.txt\r\n",
      "sub-core02_ses-ImageNet02_task-object_run-6_space-fsLR_den-91k_bold.dtseries.json\r\n",
      "sub-core02_ses-ImageNet02_task-object_run-6_space-fsLR_den-91k_bold.dtseries.nii\r\n",
      "sub-core02_ses-ImageNet02_task-object_run-6_space-fsLR_den-91k_bold.json\r\n",
      "sub-core02_ses-ImageNet02_task-object_run-6_space-fsnative_hemi-L_bold.func.gii\r\n",
      "sub-core02_ses-ImageNet02_task-object_run-6_space-fsnative_hemi-L_bold.json\r\n",
      "sub-core02_ses-ImageNet02_task-object_run-6_space-fsnative_hemi-R_bold.func.gii\r\n",
      "sub-core02_ses-ImageNet02_task-object_run-6_space-fsnative_hemi-R_bold.json\r\n",
      "\u001b[01;31msub-core02_ses-ImageNet02_task-object_run-6_space-MNI152NLin2009cAsym_res-2_boldref.nii.gz\u001b[0m\u001b[K\r\n",
      "\u001b[01;31msub-core02_ses-ImageNet02_task-object_run-6_space-MNI152NLin2009cAsym_res-2_desc-aparcaseg_dseg.nii.gz\u001b[0m\u001b[K\r\n",
      "\u001b[01;31msub-core02_ses-ImageNet02_task-object_run-6_space-MNI152NLin2009cAsym_res-2_desc-aseg_dseg.nii.gz\u001b[0m\u001b[K\r\n",
      "sub-core02_ses-ImageNet02_task-object_run-6_space-MNI152NLin2009cAsym_res-2_desc-brain_mask.json\r\n",
      "\u001b[01;31msub-core02_ses-ImageNet02_task-object_run-6_space-MNI152NLin2009cAsym_res-2_desc-brain_mask.nii.gz\u001b[0m\u001b[K\r\n",
      "sub-core02_ses-ImageNet02_task-object_run-6_space-MNI152NLin2009cAsym_res-2_desc-preproc_bold.json\r\n",
      "\u001b[01;31msub-core02_ses-ImageNet02_task-object_run-6_space-MNI152NLin2009cAsym_res-2_desc-preproc_bold.nii.gz\u001b[0m\u001b[K\r\n",
      "sub-core02_ses-ImageNet02_task-object_run-6_space-MNI152NLin6Asym_desc-smoothAROMAnonaggr_bold.json\r\n",
      "\u001b[01;31msub-core02_ses-ImageNet02_task-object_run-6_space-MNI152NLin6Asym_desc-smoothAROMAnonaggr_bold.nii.gz\u001b[0m\u001b[K\r\n",
      "\u001b[01;31msub-core02_ses-ImageNet02_task-object_run-6_space-T1w_boldref.nii.gz\u001b[0m\r\n",
      "\u001b[01;31msub-core02_ses-ImageNet02_task-object_run-6_space-T1w_desc-aparcaseg_dseg.nii.gz\u001b[0m\r\n",
      "\u001b[01;31msub-core02_ses-ImageNet02_task-object_run-6_space-T1w_desc-aseg_dseg.nii.gz\u001b[0m\r\n",
      "sub-core02_ses-ImageNet02_task-object_run-6_space-T1w_desc-brain_mask.json\r\n",
      "\u001b[01;31msub-core02_ses-ImageNet02_task-object_run-6_space-T1w_desc-brain_mask.nii.gz\u001b[0m\r\n",
      "sub-core02_ses-ImageNet02_task-object_run-6_space-T1w_desc-preproc_bold.json\r\n",
      "\u001b[01;31msub-core02_ses-ImageNet02_task-object_run-6_space-T1w_desc-preproc_bold.nii.gz\u001b[0m\r\n",
      "sub-core02_ses-ImageNet02_task-object_run-7_AROMAnoiseICs.csv\r\n",
      "sub-core02_ses-ImageNet02_task-object_run-7_desc-confounds_timeseries.json\r\n",
      "sub-core02_ses-ImageNet02_task-object_run-7_desc-confounds_timeseries.tsv\r\n",
      "sub-core02_ses-ImageNet02_task-object_run-7_desc-MELODIC_mixing.tsv\r\n",
      "sub-core02_ses-ImageNet02_task-object_run-7_from-scanner_to-T1w_mode-image_xfm.txt\r\n",
      "sub-core02_ses-ImageNet02_task-object_run-7_from-T1w_to-scanner_mode-image_xfm.txt\r\n",
      "sub-core02_ses-ImageNet02_task-object_run-7_space-fsLR_den-91k_bold.dtseries.json\r\n",
      "sub-core02_ses-ImageNet02_task-object_run-7_space-fsLR_den-91k_bold.dtseries.nii\r\n",
      "sub-core02_ses-ImageNet02_task-object_run-7_space-fsLR_den-91k_bold.json\r\n",
      "sub-core02_ses-ImageNet02_task-object_run-7_space-fsnative_hemi-L_bold.func.gii\r\n",
      "sub-core02_ses-ImageNet02_task-object_run-7_space-fsnative_hemi-L_bold.json\r\n",
      "sub-core02_ses-ImageNet02_task-object_run-7_space-fsnative_hemi-R_bold.func.gii\r\n",
      "sub-core02_ses-ImageNet02_task-object_run-7_space-fsnative_hemi-R_bold.json\r\n",
      "\u001b[01;31msub-core02_ses-ImageNet02_task-object_run-7_space-MNI152NLin2009cAsym_res-2_boldref.nii.gz\u001b[0m\u001b[K\r\n",
      "\u001b[01;31msub-core02_ses-ImageNet02_task-object_run-7_space-MNI152NLin2009cAsym_res-2_desc-aparcaseg_dseg.nii.gz\u001b[0m\u001b[K\r\n",
      "\u001b[01;31msub-core02_ses-ImageNet02_task-object_run-7_space-MNI152NLin2009cAsym_res-2_desc-aseg_dseg.nii.gz\u001b[0m\u001b[K\r\n",
      "sub-core02_ses-ImageNet02_task-object_run-7_space-MNI152NLin2009cAsym_res-2_desc-brain_mask.json\r\n",
      "\u001b[01;31msub-core02_ses-ImageNet02_task-object_run-7_space-MNI152NLin2009cAsym_res-2_desc-brain_mask.nii.gz\u001b[0m\u001b[K\r\n",
      "sub-core02_ses-ImageNet02_task-object_run-7_space-MNI152NLin2009cAsym_res-2_desc-preproc_bold.json\r\n",
      "\u001b[01;31msub-core02_ses-ImageNet02_task-object_run-7_space-MNI152NLin2009cAsym_res-2_desc-preproc_bold.nii.gz\u001b[0m\u001b[K\r\n",
      "sub-core02_ses-ImageNet02_task-object_run-7_space-MNI152NLin6Asym_desc-smoothAROMAnonaggr_bold.json\r\n",
      "\u001b[01;31msub-core02_ses-ImageNet02_task-object_run-7_space-MNI152NLin6Asym_desc-smoothAROMAnonaggr_bold.nii.gz\u001b[0m\u001b[K\r\n",
      "\u001b[01;31msub-core02_ses-ImageNet02_task-object_run-7_space-T1w_boldref.nii.gz\u001b[0m\r\n",
      "\u001b[01;31msub-core02_ses-ImageNet02_task-object_run-7_space-T1w_desc-aparcaseg_dseg.nii.gz\u001b[0m\r\n",
      "\u001b[01;31msub-core02_ses-ImageNet02_task-object_run-7_space-T1w_desc-aseg_dseg.nii.gz\u001b[0m\r\n",
      "sub-core02_ses-ImageNet02_task-object_run-7_space-T1w_desc-brain_mask.json\r\n",
      "\u001b[01;31msub-core02_ses-ImageNet02_task-object_run-7_space-T1w_desc-brain_mask.nii.gz\u001b[0m\r\n",
      "sub-core02_ses-ImageNet02_task-object_run-7_space-T1w_desc-preproc_bold.json\r\n",
      "\u001b[01;31msub-core02_ses-ImageNet02_task-object_run-7_space-T1w_desc-preproc_bold.nii.gz\u001b[0m\r\n",
      "sub-core02_ses-ImageNet02_task-object_run-8_AROMAnoiseICs.csv\r\n",
      "sub-core02_ses-ImageNet02_task-object_run-8_desc-confounds_timeseries.json\r\n",
      "sub-core02_ses-ImageNet02_task-object_run-8_desc-confounds_timeseries.tsv\r\n",
      "sub-core02_ses-ImageNet02_task-object_run-8_desc-MELODIC_mixing.tsv\r\n",
      "sub-core02_ses-ImageNet02_task-object_run-8_from-scanner_to-T1w_mode-image_xfm.txt\r\n",
      "sub-core02_ses-ImageNet02_task-object_run-8_from-T1w_to-scanner_mode-image_xfm.txt\r\n",
      "sub-core02_ses-ImageNet02_task-object_run-8_space-fsLR_den-91k_bold.dtseries.json\r\n",
      "sub-core02_ses-ImageNet02_task-object_run-8_space-fsLR_den-91k_bold.dtseries.nii\r\n",
      "sub-core02_ses-ImageNet02_task-object_run-8_space-fsLR_den-91k_bold.json\r\n",
      "sub-core02_ses-ImageNet02_task-object_run-8_space-fsnative_hemi-L_bold.func.gii\r\n",
      "sub-core02_ses-ImageNet02_task-object_run-8_space-fsnative_hemi-L_bold.json\r\n",
      "sub-core02_ses-ImageNet02_task-object_run-8_space-fsnative_hemi-R_bold.func.gii\r\n",
      "sub-core02_ses-ImageNet02_task-object_run-8_space-fsnative_hemi-R_bold.json\r\n",
      "\u001b[01;31msub-core02_ses-ImageNet02_task-object_run-8_space-MNI152NLin2009cAsym_res-2_boldref.nii.gz\u001b[0m\u001b[K\r\n",
      "\u001b[01;31msub-core02_ses-ImageNet02_task-object_run-8_space-MNI152NLin2009cAsym_res-2_desc-aparcaseg_dseg.nii.gz\u001b[0m\u001b[K\r\n",
      "\u001b[01;31msub-core02_ses-ImageNet02_task-object_run-8_space-MNI152NLin2009cAsym_res-2_desc-aseg_dseg.nii.gz\u001b[0m\u001b[K\r\n",
      "sub-core02_ses-ImageNet02_task-object_run-8_space-MNI152NLin2009cAsym_res-2_desc-brain_mask.json\r\n",
      "\u001b[01;31msub-core02_ses-ImageNet02_task-object_run-8_space-MNI152NLin2009cAsym_res-2_desc-brain_mask.nii.gz\u001b[0m\u001b[K\r\n",
      "sub-core02_ses-ImageNet02_task-object_run-8_space-MNI152NLin2009cAsym_res-2_desc-preproc_bold.json\r\n",
      "\u001b[01;31msub-core02_ses-ImageNet02_task-object_run-8_space-MNI152NLin2009cAsym_res-2_desc-preproc_bold.nii.gz\u001b[0m\u001b[K\r\n",
      "sub-core02_ses-ImageNet02_task-object_run-8_space-MNI152NLin6Asym_desc-smoothAROMAnonaggr_bold.json\r\n",
      "\u001b[01;31msub-core02_ses-ImageNet02_task-object_run-8_space-MNI152NLin6Asym_desc-smoothAROMAnonaggr_bold.nii.gz\u001b[0m\u001b[K\r\n",
      "\u001b[01;31msub-core02_ses-ImageNet02_task-object_run-8_space-T1w_boldref.nii.gz\u001b[0m\r\n",
      "\u001b[01;31msub-core02_ses-ImageNet02_task-object_run-8_space-T1w_desc-aparcaseg_dseg.nii.gz\u001b[0m\r\n",
      "\u001b[01;31msub-core02_ses-ImageNet02_task-object_run-8_space-T1w_desc-aseg_dseg.nii.gz\u001b[0m\r\n",
      "sub-core02_ses-ImageNet02_task-object_run-8_space-T1w_desc-brain_mask.json\r\n",
      "\u001b[01;31msub-core02_ses-ImageNet02_task-object_run-8_space-T1w_desc-brain_mask.nii.gz\u001b[0m\r\n",
      "sub-core02_ses-ImageNet02_task-object_run-8_space-T1w_desc-preproc_bold.json\r\n",
      "\u001b[01;31msub-core02_ses-ImageNet02_task-object_run-8_space-T1w_desc-preproc_bold.nii.gz\u001b[0m\r\n",
      "sub-core02_ses-ImageNet02_task-object_run-9_AROMAnoiseICs.csv\r\n",
      "sub-core02_ses-ImageNet02_task-object_run-9_desc-confounds_timeseries.json\r\n",
      "sub-core02_ses-ImageNet02_task-object_run-9_desc-confounds_timeseries.tsv\r\n",
      "sub-core02_ses-ImageNet02_task-object_run-9_desc-MELODIC_mixing.tsv\r\n",
      "sub-core02_ses-ImageNet02_task-object_run-9_from-scanner_to-T1w_mode-image_xfm.txt\r\n",
      "sub-core02_ses-ImageNet02_task-object_run-9_from-T1w_to-scanner_mode-image_xfm.txt\r\n",
      "sub-core02_ses-ImageNet02_task-object_run-9_space-fsLR_den-91k_bold.dtseries.json\r\n",
      "sub-core02_ses-ImageNet02_task-object_run-9_space-fsLR_den-91k_bold.dtseries.nii\r\n",
      "sub-core02_ses-ImageNet02_task-object_run-9_space-fsLR_den-91k_bold.json\r\n",
      "sub-core02_ses-ImageNet02_task-object_run-9_space-fsnative_hemi-L_bold.func.gii\r\n",
      "sub-core02_ses-ImageNet02_task-object_run-9_space-fsnative_hemi-L_bold.json\r\n",
      "sub-core02_ses-ImageNet02_task-object_run-9_space-fsnative_hemi-R_bold.func.gii\r\n",
      "sub-core02_ses-ImageNet02_task-object_run-9_space-fsnative_hemi-R_bold.json\r\n",
      "\u001b[01;31msub-core02_ses-ImageNet02_task-object_run-9_space-MNI152NLin2009cAsym_res-2_boldref.nii.gz\u001b[0m\u001b[K\r\n",
      "\u001b[01;31msub-core02_ses-ImageNet02_task-object_run-9_space-MNI152NLin2009cAsym_res-2_desc-aparcaseg_dseg.nii.gz\u001b[0m\u001b[K\r\n",
      "\u001b[01;31msub-core02_ses-ImageNet02_task-object_run-9_space-MNI152NLin2009cAsym_res-2_desc-aseg_dseg.nii.gz\u001b[0m\u001b[K\r\n",
      "sub-core02_ses-ImageNet02_task-object_run-9_space-MNI152NLin2009cAsym_res-2_desc-brain_mask.json\r\n",
      "\u001b[01;31msub-core02_ses-ImageNet02_task-object_run-9_space-MNI152NLin2009cAsym_res-2_desc-brain_mask.nii.gz\u001b[0m\u001b[K\r\n",
      "sub-core02_ses-ImageNet02_task-object_run-9_space-MNI152NLin2009cAsym_res-2_desc-preproc_bold.json\r\n",
      "\u001b[01;31msub-core02_ses-ImageNet02_task-object_run-9_space-MNI152NLin2009cAsym_res-2_desc-preproc_bold.nii.gz\u001b[0m\u001b[K\r\n",
      "sub-core02_ses-ImageNet02_task-object_run-9_space-MNI152NLin6Asym_desc-smoothAROMAnonaggr_bold.json\r\n",
      "\u001b[01;31msub-core02_ses-ImageNet02_task-object_run-9_space-MNI152NLin6Asym_desc-smoothAROMAnonaggr_bold.nii.gz\u001b[0m\u001b[K\r\n",
      "\u001b[01;31msub-core02_ses-ImageNet02_task-object_run-9_space-T1w_boldref.nii.gz\u001b[0m\r\n",
      "\u001b[01;31msub-core02_ses-ImageNet02_task-object_run-9_space-T1w_desc-aparcaseg_dseg.nii.gz\u001b[0m\r\n",
      "\u001b[01;31msub-core02_ses-ImageNet02_task-object_run-9_space-T1w_desc-aseg_dseg.nii.gz\u001b[0m\r\n",
      "sub-core02_ses-ImageNet02_task-object_run-9_space-T1w_desc-brain_mask.json\r\n",
      "\u001b[01;31msub-core02_ses-ImageNet02_task-object_run-9_space-T1w_desc-brain_mask.nii.gz\u001b[0m\r\n",
      "sub-core02_ses-ImageNet02_task-object_run-9_space-T1w_desc-preproc_bold.json\r\n",
      "\u001b[01;31msub-core02_ses-ImageNet02_task-object_run-9_space-T1w_desc-preproc_bold.nii.gz\u001b[0m\r\n"
     ]
    }
   ],
   "source": [
    "ls derivatives/fmriprep/sub-core02/ses-ImageNet02/func\n"
   ]
  },
  {
   "cell_type": "code",
   "execution_count": 37,
   "metadata": {
    "collapsed": true
   },
   "outputs": [
    {
     "name": "stdout",
     "output_type": "stream",
     "text": [
      "\u001b[0m\u001b[01;31msub-core02_ses-ImageNet02_run-1_desc-aparcaseg_dseg.nii.gz\u001b[0m\r\n",
      "\u001b[01;31msub-core02_ses-ImageNet02_run-1_desc-aseg_dseg.nii.gz\u001b[0m\r\n",
      "sub-core02_ses-ImageNet02_run-1_desc-brain_mask.json\r\n",
      "\u001b[01;31msub-core02_ses-ImageNet02_run-1_desc-brain_mask.nii.gz\u001b[0m\r\n",
      "sub-core02_ses-ImageNet02_run-1_desc-preproc_T1w.json\r\n",
      "\u001b[01;31msub-core02_ses-ImageNet02_run-1_desc-preproc_T1w.nii.gz\u001b[0m\r\n",
      "\u001b[01;31msub-core02_ses-ImageNet02_run-1_dseg.nii.gz\u001b[0m\r\n",
      "sub-core02_ses-ImageNet02_run-1_from-fsnative_to-T1w_mode-image_xfm.txt\r\n",
      "sub-core02_ses-ImageNet02_run-1_from-MNI152NLin2009cAsym_to-T1w_mode-image_xfm.h5\r\n",
      "sub-core02_ses-ImageNet02_run-1_from-MNI152NLin6Asym_to-T1w_mode-image_xfm.h5\r\n",
      "sub-core02_ses-ImageNet02_run-1_from-T1w_to-fsnative_mode-image_xfm.txt\r\n",
      "sub-core02_ses-ImageNet02_run-1_from-T1w_to-MNI152NLin2009cAsym_mode-image_xfm.h5\r\n",
      "sub-core02_ses-ImageNet02_run-1_from-T1w_to-MNI152NLin6Asym_mode-image_xfm.h5\r\n",
      "sub-core02_ses-ImageNet02_run-1_hemi-L_inflated.surf.gii\r\n",
      "sub-core02_ses-ImageNet02_run-1_hemi-L_midthickness.surf.gii\r\n",
      "sub-core02_ses-ImageNet02_run-1_hemi-L_pial.surf.gii\r\n",
      "sub-core02_ses-ImageNet02_run-1_hemi-L_smoothwm.surf.gii\r\n",
      "sub-core02_ses-ImageNet02_run-1_hemi-R_inflated.surf.gii\r\n",
      "sub-core02_ses-ImageNet02_run-1_hemi-R_midthickness.surf.gii\r\n",
      "sub-core02_ses-ImageNet02_run-1_hemi-R_pial.surf.gii\r\n",
      "sub-core02_ses-ImageNet02_run-1_hemi-R_smoothwm.surf.gii\r\n",
      "\u001b[01;31msub-core02_ses-ImageNet02_run-1_label-CSF_probseg.nii.gz\u001b[0m\r\n",
      "\u001b[01;31msub-core02_ses-ImageNet02_run-1_label-GM_probseg.nii.gz\u001b[0m\r\n",
      "\u001b[01;31msub-core02_ses-ImageNet02_run-1_label-WM_probseg.nii.gz\u001b[0m\r\n",
      "sub-core02_ses-ImageNet02_run-1_space-MNI152NLin2009cAsym_res-2_desc-brain_mask.json\r\n",
      "\u001b[01;31msub-core02_ses-ImageNet02_run-1_space-MNI152NLin2009cAsym_res-2_desc-brain_mask.nii.gz\u001b[0m\u001b[K\r\n",
      "sub-core02_ses-ImageNet02_run-1_space-MNI152NLin2009cAsym_res-2_desc-preproc_T1w.json\r\n",
      "\u001b[01;31msub-core02_ses-ImageNet02_run-1_space-MNI152NLin2009cAsym_res-2_desc-preproc_T1w.nii.gz\u001b[0m\u001b[K\r\n",
      "\u001b[01;31msub-core02_ses-ImageNet02_run-1_space-MNI152NLin2009cAsym_res-2_dseg.nii.gz\u001b[0m\r\n",
      "\u001b[01;31msub-core02_ses-ImageNet02_run-1_space-MNI152NLin2009cAsym_res-2_label-CSF_probseg.nii.gz\u001b[0m\u001b[K\r\n",
      "\u001b[01;31msub-core02_ses-ImageNet02_run-1_space-MNI152NLin2009cAsym_res-2_label-GM_probseg.nii.gz\u001b[0m\u001b[K\r\n",
      "\u001b[01;31msub-core02_ses-ImageNet02_run-1_space-MNI152NLin2009cAsym_res-2_label-WM_probseg.nii.gz\u001b[0m\u001b[K\r\n"
     ]
    }
   ],
   "source": [
    "ls derivatives/fmriprep/sub-core02/ses-ImageNet02/anat"
   ]
  },
  {
   "cell_type": "code",
   "execution_count": 2,
   "metadata": {
    "collapsed": true
   },
   "outputs": [],
   "source": [
    "sess_path = 'derivatives/fmriprep/sub-core02/ses-ImageNet02/'\n",
    "folder = 'anat'\n",
    "preproc = 'sub-core02_ses-ImageNet02_run-1_desc-preproc_T1w.nii.gz'\n",
    "tpl_prep = 'sub-core02_ses-ImageNet02_run-1_space-MNI152NLin2009cAsym_res-2_desc-preproc_T1w.nii.gz'\n"
   ]
  },
  {
   "cell_type": "code",
   "execution_count": 10,
   "metadata": {
    "collapsed": true
   },
   "outputs": [],
   "source": [
    "files = [preproc, tpl_prep]"
   ]
  },
  {
   "cell_type": "code",
   "execution_count": null,
   "metadata": {
    "collapsed": true
   },
   "outputs": [],
   "source": [
    "for file in files:\n",
    "    file_path = os.path.join(sess_path, folder, file)\n",
    "    img = nib.load(file_path)\n",
    "    "
   ]
  },
  {
   "cell_type": "code",
   "execution_count": 3,
   "metadata": {
    "collapsed": true
   },
   "outputs": [],
   "source": [
    "func = 'func'\n",
    "anat = 'anat'\n",
    "Rgii = 'sub-core02_ses-ImageNet02_run-1_hemi-R_inflated.surf.gii'\n",
    "Lgii = 'sub-core02_ses-ImageNet02_run-1_hemi-L_inflated.surf.gii'\n",
    "cifti = 'sub-core02_ses-ImageNet02_task-object_run-10_space-fsLR_den-91k_bold.dtseries.nii'"
   ]
  },
  {
   "cell_type": "code",
   "execution_count": 4,
   "metadata": {
    "collapsed": true
   },
   "outputs": [],
   "source": [
    "imgR = nib.load(os.path.join(sess_path,anat,Rgii))\n",
    "imgL = nib.load(os.path.join(sess_path,anat,Lgii))\n",
    "imgc = nib.load(os.path.join(sess_path,func,cifti))\n"
   ]
  },
  {
   "cell_type": "code",
   "execution_count": 12,
   "metadata": {
    "collapsed": false
   },
   "outputs": [
    {
     "name": "stdout",
     "output_type": "stream",
     "text": [
      "(256, 91282)\n"
     ]
    }
   ],
   "source": [
    "data = imgc.get_fdata()\n",
    "print(data.shape)"
   ]
  },
  {
   "cell_type": "code",
   "execution_count": 32,
   "metadata": {
    "collapsed": false
   },
   "outputs": [],
   "source": [
    "coordR = imgR.get_arrays_from_intent('NIFTI_INTENT_POINTSET')[0].data\n",
    "coordL = imgL.get_arrays_from_intent('NIFTI_INTENT_POINTSET')[0].data"
   ]
  },
  {
   "cell_type": "code",
   "execution_count": 35,
   "metadata": {
    "collapsed": false
   },
   "outputs": [
    {
     "name": "stdout",
     "output_type": "stream",
     "text": [
      "(147496, 3)\n",
      "(144777, 3)\n"
     ]
    }
   ],
   "source": [
    "print(coordL.shape)\n",
    "print(coordR.shape)"
   ]
  },
  {
   "cell_type": "code",
   "execution_count": 36,
   "metadata": {
    "collapsed": false
   },
   "outputs": [
    {
     "data": {
      "text/plain": [
       "292273"
      ]
     },
     "execution_count": 36,
     "metadata": {},
     "output_type": "execute_result"
    }
   ],
   "source": [
    "144777 + 147496"
   ]
  },
  {
   "cell_type": "code",
   "execution_count": 22,
   "metadata": {
    "collapsed": false
   },
   "outputs": [],
   "source": [
    "import matplotlib.pyplot as plt"
   ]
  },
  {
   "cell_type": "code",
   "execution_count": 26,
   "metadata": {
    "collapsed": false
   },
   "outputs": [
    {
     "data": {
      "image/png": "[encoded data removed]",
      "text/plain": [
       "<Figure size 432x288 with 1 Axes>"
      ]
     },
     "metadata": {},
     "output_type": "display_data"
    }
   ],
   "source": [
    "plt.plot(list(range(256)), data[:,1])\n",
    "plt.plot(list(range(256)), data[:,2])\n",
    "plt.show()"
   ]
  },
  {
   "cell_type": "code",
   "execution_count": 34,
   "metadata": {
    "collapsed": false,
    "scrolled": true
   },
   "outputs": [],
   "source": [
    "a = imgc.header.get_index_map(1)"
   ]
  },
  {
   "cell_type": "code",
   "execution_count": 43,
   "metadata": {
    "collapsed": false
   },
   "outputs": [
    {
     "data": {
      "text/plain": [
       "['CIFTI_STRUCTURE_CORTEX_LEFT',\n",
       " 'CIFTI_STRUCTURE_CORTEX_RIGHT',\n",
       " 'CIFTI_STRUCTURE_ACCUMBENS_LEFT',\n",
       " 'CIFTI_STRUCTURE_ACCUMBENS_RIGHT',\n",
       " 'CIFTI_STRUCTURE_AMYGDALA_LEFT',\n",
       " 'CIFTI_STRUCTURE_AMYGDALA_RIGHT',\n",
       " 'CIFTI_STRUCTURE_BRAIN_STEM',\n",
       " 'CIFTI_STRUCTURE_CAUDATE_LEFT',\n",
       " 'CIFTI_STRUCTURE_CAUDATE_RIGHT',\n",
       " 'CIFTI_STRUCTURE_CEREBELLUM_LEFT',\n",
       " 'CIFTI_STRUCTURE_CEREBELLUM_RIGHT',\n",
       " 'CIFTI_STRUCTURE_DIENCEPHALON_VENTRAL_LEFT',\n",
       " 'CIFTI_STRUCTURE_DIENCEPHALON_VENTRAL_RIGHT',\n",
       " 'CIFTI_STRUCTURE_HIPPOCAMPUS_LEFT',\n",
       " 'CIFTI_STRUCTURE_HIPPOCAMPUS_RIGHT',\n",
       " 'CIFTI_STRUCTURE_PALLIDUM_LEFT',\n",
       " 'CIFTI_STRUCTURE_PALLIDUM_RIGHT',\n",
       " 'CIFTI_STRUCTURE_PUTAMEN_LEFT',\n",
       " 'CIFTI_STRUCTURE_PUTAMEN_RIGHT',\n",
       " 'CIFTI_STRUCTURE_THALAMUS_LEFT',\n",
       " 'CIFTI_STRUCTURE_THALAMUS_RIGHT']"
      ]
     },
     "execution_count": 43,
     "metadata": {},
     "output_type": "execute_result"
    }
   ],
   "source": [
    "[_.brain_structure for _ in imgc.header.get_index_map(1).brain_models]"
   ]
  },
  {
   "cell_type": "code",
   "execution_count": 1,
   "metadata": {
    "collapsed": false
   },
   "outputs": [],
   "source": [
    "subpath = '/nfs/s2/userhome/gongzhengxin/pub/hcp/100206'\n",
    "mnifslr='MNINonLinear/fsaverage_LR32k/'\n",
    "mninati='MNINonLinear/Native/'\n",
    "t1wfslr='T1w/fsaverage_LR32k/'\n",
    "t1wnati='T1w/Native/'"
   ]
  },
  {
   "cell_type": "code",
   "execution_count": 73,
   "metadata": {
    "collapsed": true
   },
   "outputs": [
    {
     "ename": "SyntaxError",
     "evalue": "invalid syntax (<ipython-input-73-a99d16b09df2>, line 3)",
     "output_type": "error",
     "traceback": [
      "\u001b[0;36m  File \u001b[0;32m\"<ipython-input-73-a99d16b09df2>\"\u001b[0;36m, line \u001b[0;32m3\u001b[0m\n\u001b[0;31m    ls /nfs/s2/userhome/gongzhengxin/pub/hcp/100206/MNINonLinear/fsaverage_LR32k/ > /nfs/s2/userhome/gongzhengxin/workingdir/MNIfs.txt\u001b[0m\n\u001b[0m                                                                                  ^\u001b[0m\n\u001b[0;31mSyntaxError\u001b[0m\u001b[0;31m:\u001b[0m invalid syntax\n"
     ]
    }
   ],
   "source": [
    "export sub=/nfs/s2/userhome/gongzhengxin/pub/hcp/100206\n",
    "export home=/nfs/s2/userhome/gongzhengxin\n",
    "ls $sub/MNINonLinear/fsaverage_LR32k/ > $home/workingdir/MNIfs.txt\n",
    "ls $sub/MNINonLinear/Native/ > $home/workingdir/MNIna.txt\n",
    "ls $sub/T1w/fsaverage_LR32k/ > $home/workingdir/t1fs.txt\n",
    "ls $sub/T1w/Native > $home/workingdir/t1na.txt"
   ]
  },
  {
   "cell_type": "code",
   "execution_count": 6,
   "metadata": {
    "collapsed": false
   },
   "outputs": [],
   "source": [
    "with open('/nfs/s2/userhome/gongzhengxin/workingdir/MNIfs.txt') as f:\n",
    "    hcp_mni_fs = [i.replace('\\n', '').replace('100206','') for i in f.readlines()]\n",
    "with open('/nfs/s2/userhome/gongzhengxin/workingdir/MNIna.txt') as f:\n",
    "    hcp_mni_na = [i.replace('\\n', '').replace('100206','') for i in f.readlines()]\n",
    "with open('/nfs/s2/userhome/gongzhengxin/workingdir/t1fs.txt') as f:\n",
    "    hcp_t1w_fs = [i.replace('\\n', '').replace('100206','') for i in f.readlines()]\n",
    "with open('/nfs/s2/userhome/gongzhengxin/workingdir/t1na.txt') as f:\n",
    "    hcp_t1w_na = [i.replace('\\n', '').replace('100206','') for i in f.readlines()]\n",
    "\n",
    "with open('/nfs/s2/userhome/gongzhengxin/workingdir/MNIfs2.txt') as f:\n",
    "    bin_mni_fs = [i.replace('\\n', '').replace('sub-core02','') for i in f.readlines()]\n",
    "with open('/nfs/s2/userhome/gongzhengxin/workingdir/MNIna2.txt') as f:\n",
    "    bin_mni_na = [i.replace('\\n', '').replace('sub-core02','') for i in f.readlines()]\n",
    "with open('/nfs/s2/userhome/gongzhengxin/workingdir/t1fs2.txt') as f:\n",
    "    bin_t1w_fs = [i.replace('\\n', '').replace('sub-core02','') for i in f.readlines()]\n",
    "with open('/nfs/s2/userhome/gongzhengxin/workingdir/t1na2.txt') as f:\n",
    "    bin_t1w_na = [i.replace('\\n', '').replace('sub-core02','') for i in f.readlines()]\n"
   ]
  },
  {
   "cell_type": "code",
   "execution_count": 11,
   "metadata": {
    "collapsed": false
   },
   "outputs": [
    {
     "name": "stdout",
     "output_type": "stream",
     "text": [
      "{'.L.flat.32k_fs_LR.surf.gii', '.aparc.a2009s.32k_fs_LR.dlabel.nii', '.L.sphere.32k_fs_LR.surf.gii', '.L.pial.32k_fs_LR.surf.gii', '.R.atlasroi.32k_fs_LR.shape.gii', '.R.pial.32k_fs_LR.surf.gii', '.sulc.32k_fs_LR.dscalar.nii', '.R.inflated.32k_fs_LR.surf.gii', '.R.very_inflated.32k_fs_LR.surf.gii', '.L.inflated.32k_fs_LR.surf.gii', '.curvature.32k_fs_LR.dscalar.nii', '.aparc.32k_fs_LR.dlabel.nii', '.thickness.32k_fs_LR.dscalar.nii', '.ArealDistortion_MSMSulc.32k_fs_LR.dscalar.nii', '.L.white.32k_fs_LR.surf.gii', '.L.atlasroi.32k_fs_LR.shape.gii', '.R.flat.32k_fs_LR.surf.gii', '.L.very_inflated.32k_fs_LR.surf.gii', '.R.white.32k_fs_LR.surf.gii', '.32k_fs_LR.wb.spec', '.L.midthickness.32k_fs_LR.surf.gii', '.R.sphere.32k_fs_LR.surf.gii', '.R.midthickness.32k_fs_LR.surf.gii', '.ArealDistortion_FS.32k_fs_LR.dscalar.nii'}\n",
      "{'.EdgeDistortion_MSMSulc.32k_fs_LR.dscalar.nii', '.BA_exvivo.32k_fs_LR.dlabel.nii', '.aparc.DKTatlas.32k_fs_LR.dlabel.nii'}\n",
      "{'.L.ArealDistortion_MSMSulc.32k_fs_LR.shape.gii', '.SphericalDistortion_MSMAll.32k_fs_LR.dscalar.nii', '.R.curvature.32k_fs_LR.shape.gii', '.corrThickness_MSMAll.32k_fs_LR.dscalar.nii', '.L.thickness.32k_fs_LR.shape.gii', '.L.sulc.32k_fs_LR.shape.gii', '.L.SmoothedMyelinMap_BC.32k_fs_LR.func.gii', '.MyelinMap_MSMAll.32k_fs_LR.dscalar.nii', '.L.MyelinMap.32k_fs_LR.func.gii', '.EdgeDistortion_MSMAll.32k_fs_LR.dscalar.nii', '.MyelinMap_BC_MSMAll.32k_fs_LR.dscalar.nii', '.R.MyelinMap.32k_fs_LR.func.gii', '.L.aparc.32k_fs_LR.label.gii', '.L.inflated_MSMAll.32k_fs_LR.surf.gii', '.L.pial_MSMAll.32k_fs_LR.surf.gii', '.MSMAll.32k_fs_LR.wb.spec', '.R.SmoothedMyelinMap.32k_fs_LR.func.gii', '.L.area_midthickness.32k_fs_LR.shape.gii', '.SmoothedMyelinMap.32k_fs_LR.dscalar.nii', '.R.aparc.32k_fs_LR.label.gii', '.R.aparc.a2009s.32k_fs_LR.label.gii', '.ArealDistortion_MSMAll.32k_fs_LR.dscalar.nii', '.L.curvature.32k_fs_LR.shape.gii', '.R.thickness.32k_fs_LR.shape.gii', '.L.MyelinMap_BC.32k_fs_LR.func.gii', '.R.midthickness_MSMAll.32k_fs_LR.surf.gii', '.R.sulc.32k_fs_LR.shape.gii', '.SmoothedMyelinMap_BC_MSMAll.32k_fs_LR.dscalar.nii', '.thickness_MSMAll.32k_fs_LR.dscalar.nii', '.L.midthickness_MSMAll.32k_fs_LR.surf.gii', '.L.corrThickness.32k_fs_LR.shape.gii', '.R.SmoothedMyelinMap_BC.32k_fs_LR.func.gii', '.BiasField_MSMAll.32k_fs_LR.dscalar.nii', '.R.BA.32k_fs_LR.label.gii', '.R.area_midthickness.32k_fs_LR.shape.gii', '.BA.32k_fs_LR.dlabel.nii', '.sulc_MSMAll.32k_fs_LR.dscalar.nii', '.R.inflated_MSMAll.32k_fs_LR.surf.gii', '.SmoothedMyelinMap_BC.32k_fs_LR.dscalar.nii', '.L.white_MSMAll.32k_fs_LR.surf.gii', '.L.BA.32k_fs_LR.label.gii', '.corrThickness.32k_fs_LR.dscalar.nii', '.MyelinMap_BC.32k_fs_LR.dscalar.nii', '.R.pial_MSMAll.32k_fs_LR.surf.gii', '.L.very_inflated_MSMAll.32k_fs_LR.surf.gii', '.area_midthickness.32k_fs_LR.dscalar.nii', '.L.SmoothedMyelinMap.32k_fs_LR.func.gii', '.R.corrThickness.32k_fs_LR.shape.gii', '.R.MyelinMap_BC.32k_fs_LR.func.gii', '.R.ArealDistortion_FS.32k_fs_LR.shape.gii', '.R.very_inflated_MSMAll.32k_fs_LR.surf.gii', '.curvature_MSMAll.32k_fs_LR.dscalar.nii', '.L.aparc.a2009s.32k_fs_LR.label.gii', '.L.ArealDistortion_FS.32k_fs_LR.shape.gii', '.R.white_MSMAll.32k_fs_LR.surf.gii', '.R.ArealDistortion_MSMSulc.32k_fs_LR.shape.gii', '.MyelinMap.32k_fs_LR.dscalar.nii'}\n"
     ]
    }
   ],
   "source": [
    "print(set(hcp_mni_fs) & set(bin_mni_fs))\n",
    "print(set(bin_mni_fs) - (set(hcp_mni_fs) & set(bin_mni_fs)))\n",
    "print(set(hcp_mni_fs) - (set(hcp_mni_fs) & set(bin_mni_fs)))"
   ]
  },
  {
   "cell_type": "code",
   "execution_count": null,
   "metadata": {
    "collapsed": true
   },
   "outputs": [],
   "source": []
  },
  {
   "cell_type": "code",
   "execution_count": null,
   "metadata": {
    "collapsed": true
   },
   "outputs": [],
   "source": []
  },
  {
   "cell_type": "code",
   "execution_count": 86,
   "metadata": {
    "collapsed": false
   },
   "outputs": [],
   "source": [
    "cf_t1=list(set(t1fs)&set(t1na))\n",
    "cf_mni=list(set(mnifs)&set(mnina))"
   ]
  },
  {
   "cell_type": "code",
   "execution_count": 87,
   "metadata": {
    "collapsed": false
   },
   "outputs": [
    {
     "name": "stdout",
     "output_type": "stream",
     "text": [
      "0 26 11\n",
      "0 81 82\n"
     ]
    }
   ],
   "source": [
    "print(len(cf_t1), end=' ');print(len(t1fs), end=' '); print(len(t1na))\n",
    "print(len(cf_mni), end=' ');print(len(mnifs), end=' '); print(len(mnina))"
   ]
  },
  {
   "cell_type": "code",
   "execution_count": 78,
   "metadata": {
    "collapsed": true
   },
   "outputs": [
    {
     "name": "stdout",
     "output_type": "stream",
     "text": [
      "['100206.32k_fs_LR.wb.spec' '100206.L.inflated.32k_fs_LR.surf.gii'\n",
      " '100206.L.inflated_MSMAll.32k_fs_LR.surf.gii'\n",
      " '100206.L.midthickness.32k_fs_LR.surf.gii'\n",
      " '100206.L.midthickness_MSMAll.32k_fs_LR.surf.gii'\n",
      " '100206.L.midthickness_MSMAll_va.32k_fs_LR.shape.gii'\n",
      " '100206.L.pial.32k_fs_LR.surf.gii'\n",
      " '100206.L.pial_MSMAll.32k_fs_LR.surf.gii'\n",
      " '100206.L.very_inflated.32k_fs_LR.surf.gii'\n",
      " '100206.L.very_inflated_MSMAll.32k_fs_LR.surf.gii'\n",
      " '100206.L.white.32k_fs_LR.surf.gii'\n",
      " '100206.L.white_MSMAll.32k_fs_LR.surf.gii'\n",
      " '100206.midthickness_MSMAll_va.32k_fs_LR.dscalar.nii'\n",
      " '100206.midthickness_MSMAll_va_norm.32k_fs_LR.dscalar.nii'\n",
      " '100206.MSMAll.32k_fs_LR.wb.spec' '100206.R.inflated.32k_fs_LR.surf.gii'\n",
      " '100206.R.inflated_MSMAll.32k_fs_LR.surf.gii'\n",
      " '100206.R.midthickness.32k_fs_LR.surf.gii'\n",
      " '100206.R.midthickness_MSMAll.32k_fs_LR.surf.gii'\n",
      " '100206.R.midthickness_MSMAll_va.32k_fs_LR.shape.gii'\n",
      " '100206.R.pial.32k_fs_LR.surf.gii'\n",
      " '100206.R.pial_MSMAll.32k_fs_LR.surf.gii'\n",
      " '100206.R.very_inflated.32k_fs_LR.surf.gii'\n",
      " '100206.R.very_inflated_MSMAll.32k_fs_LR.surf.gii'\n",
      " '100206.R.white.32k_fs_LR.surf.gii'\n",
      " '100206.R.white_MSMAll.32k_fs_LR.surf.gii']\n",
      "['100206.L.inflated.native.surf.gii'\n",
      " '100206.L.midthickness.native.surf.gii' '100206.L.pial.native.surf.gii'\n",
      " '100206.L.very_inflated.native.surf.gii' '100206.L.white.native.surf.gii'\n",
      " '100206.native.wb.spec' '100206.R.inflated.native.surf.gii'\n",
      " '100206.R.midthickness.native.surf.gii' '100206.R.pial.native.surf.gii'\n",
      " '100206.R.very_inflated.native.surf.gii' '100206.R.white.native.surf.gii']\n"
     ]
    }
   ],
   "source": [
    "# just makesure\n",
    "print(np.array(t1fs).reshape(-1));print(np.array(t1na).reshape(-1)) \n",
    "print(np.array(mnifs).reshape(-1));print(np.array(mnina).reshape(-1)) "
   ]
  },
  {
   "cell_type": "code",
   "execution_count": 88,
   "metadata": {
    "collapsed": false
   },
   "outputs": [
    {
     "name": "stdout",
     "output_type": "stream",
     "text": [
      "{'shape.gii', 'label.gii', 'dscalar.nii', 'func.gii', 'surf.gii', 'dlabel.nii', 'wb.spec'}\n",
      "{'shape.gii', 'label.gii', 'dscalar.nii', 'func.gii', 'surf.gii', 'dlabel.nii', 'wb.spec'}\n",
      "{'shape.gii', 'dscalar.nii', 'wb.spec', 'surf.gii'}\n",
      "{'wb.spec', 'surf.gii'}\n"
     ]
    }
   ],
   "source": [
    "print(set(['%s.%s' % (i.split('.')[-2], i.split('.')[-1]) for i in mnifs]), end='\\n')\n",
    "print(set(['%s.%s' % (i.split('.')[-2], i.split('.')[-1]) for i in mnina]), end='\\n')\n",
    "print(set(['%s.%s' % (i.split('.')[-2], i.split('.')[-1]) for i in t1fs]), end='\\n')\n",
    "print(set(['%s.%s' % (i.split('.')[-2], i.split('.')[-1]) for i in t1na]), end='\\n')"
   ]
  },
  {
   "cell_type": "code",
   "execution_count": 92,
   "metadata": {
    "collapsed": false,
    "scrolled": true
   },
   "outputs": [
    {
     "name": "stdout",
     "output_type": "stream",
     "text": [
      "2 1 2 1\n",
      "24 22 20 10\n"
     ]
    }
   ],
   "source": [
    "mfwbspec = [i for i in mnifs if '.wb.spec' in i]\n",
    "mnwbspec = [i for i in mnina if '.wb.spec' in i]\n",
    "t1fswbspec = [i for i in t1fs if '.wb.spec' in i]\n",
    "t1nawbspec = [i for i in t1na if '.wb.spec' in i]\n",
    "print(len(mfwbspec),end=' ');print(len(mnwbspec),end=' ');print(len(t1fswbspec),end=' ');print(len(t1nawbspec));\n",
    "\n",
    "mfsurfgii = [i for i in mnifs if '.surf.gii' in i]\n",
    "mnsurfgii = [i for i in mnina if '.surf.gii' in i]\n",
    "t1fssurfgii = [i for i in t1fs if '.surf.gii' in i]\n",
    "t1nasurfgii = [i for i in t1na if '.surf.gii' in i]\n",
    "print(len(mfsurfgii),end=' ');print(len(mnsurfgii),end=' ');print(len(t1fssurfgii),end=' ');print(len(t1nasurfgii));"
   ]
  },
  {
   "cell_type": "code",
   "execution_count": 94,
   "metadata": {
    "collapsed": false
   },
   "outputs": [
    {
     "name": "stdout",
     "output_type": "stream",
     "text": [
      "['100206.32k_fs_LR.wb.spec', '100206.MSMAll.32k_fs_LR.wb.spec']\n",
      "['100206.native.wb.spec']\n",
      "['100206.32k_fs_LR.wb.spec', '100206.MSMAll.32k_fs_LR.wb.spec']\n",
      "['100206.native.wb.spec']\n"
     ]
    }
   ],
   "source": [
    "print(mfwbspec);print(mnwbspec);print(t1fswbspec);print(t1nawbspec)"
   ]
  },
  {
   "cell_type": "code",
   "execution_count": 101,
   "metadata": {
    "collapsed": true
   },
   "outputs": [
    {
     "ename": "ImageFileError",
     "evalue": "Cannot work out file type of \"/nfs/s2/userhome/gongzhengxin/pub/hcp/100206/MNINonLinear/fsaverage_LR32k/100206.32k_fs_LR.wb.spec\"",
     "output_type": "error",
     "traceback": [
      "\u001b[0;31m---------------------------------------------------------------------------\u001b[0m",
      "\u001b[0;31mImageFileError\u001b[0m                            Traceback (most recent call last)",
      "\u001b[0;32m<ipython-input-101-78d15465dcfc>\u001b[0m in \u001b[0;36m<module>\u001b[0;34m()\u001b[0m\n\u001b[1;32m      1\u001b[0m \u001b[0;32mfrom\u001b[0m \u001b[0mos\u001b[0m\u001b[0;34m.\u001b[0m\u001b[0mpath\u001b[0m \u001b[0;32mimport\u001b[0m \u001b[0mjoin\u001b[0m \u001b[0;32mas\u001b[0m \u001b[0mpjoin\u001b[0m\u001b[0;34m\u001b[0m\u001b[0;34m\u001b[0m\u001b[0m\n\u001b[0;32m----> 2\u001b[0;31m \u001b[0mmfws\u001b[0m \u001b[0;34m=\u001b[0m \u001b[0mnib\u001b[0m\u001b[0;34m.\u001b[0m\u001b[0mload\u001b[0m\u001b[0;34m(\u001b[0m\u001b[0mpjoin\u001b[0m\u001b[0;34m(\u001b[0m\u001b[0msubpath\u001b[0m\u001b[0;34m,\u001b[0m\u001b[0mmnifslr\u001b[0m\u001b[0;34m,\u001b[0m \u001b[0mmfwbspec\u001b[0m\u001b[0;34m[\u001b[0m\u001b[0;36m0\u001b[0m\u001b[0;34m]\u001b[0m\u001b[0;34m)\u001b[0m\u001b[0;34m)\u001b[0m\u001b[0;34m\u001b[0m\u001b[0;34m\u001b[0m\u001b[0m\n\u001b[0m\u001b[1;32m      3\u001b[0m \u001b[0mmnws\u001b[0m \u001b[0;34m=\u001b[0m \u001b[0mnib\u001b[0m\u001b[0;34m.\u001b[0m\u001b[0mload\u001b[0m\u001b[0;34m(\u001b[0m\u001b[0mpjoin\u001b[0m\u001b[0;34m(\u001b[0m\u001b[0msubpath\u001b[0m\u001b[0;34m,\u001b[0m\u001b[0mmninati\u001b[0m\u001b[0;34m,\u001b[0m \u001b[0mmnwbspec\u001b[0m\u001b[0;34m[\u001b[0m\u001b[0;36m0\u001b[0m\u001b[0;34m]\u001b[0m\u001b[0;34m)\u001b[0m\u001b[0;34m)\u001b[0m\u001b[0;34m\u001b[0m\u001b[0;34m\u001b[0m\u001b[0m\n\u001b[1;32m      4\u001b[0m \u001b[0mtfws\u001b[0m \u001b[0;34m=\u001b[0m \u001b[0mnib\u001b[0m\u001b[0;34m.\u001b[0m\u001b[0mload\u001b[0m\u001b[0;34m(\u001b[0m\u001b[0mpjoin\u001b[0m\u001b[0;34m(\u001b[0m\u001b[0msubpath\u001b[0m\u001b[0;34m,\u001b[0m\u001b[0mt1wfslr\u001b[0m\u001b[0;34m,\u001b[0m \u001b[0mt1fswbspec\u001b[0m\u001b[0;34m[\u001b[0m\u001b[0;36m0\u001b[0m\u001b[0;34m]\u001b[0m\u001b[0;34m)\u001b[0m\u001b[0;34m)\u001b[0m\u001b[0;34m\u001b[0m\u001b[0;34m\u001b[0m\u001b[0m\n\u001b[1;32m      5\u001b[0m \u001b[0mtnws\u001b[0m \u001b[0;34m=\u001b[0m \u001b[0mnib\u001b[0m\u001b[0;34m.\u001b[0m\u001b[0mload\u001b[0m\u001b[0;34m(\u001b[0m\u001b[0mpjoin\u001b[0m\u001b[0;34m(\u001b[0m\u001b[0msubpath\u001b[0m\u001b[0;34m,\u001b[0m\u001b[0mt1wnati\u001b[0m\u001b[0;34m,\u001b[0m \u001b[0mt1nawbspec\u001b[0m\u001b[0;34m[\u001b[0m\u001b[0;36m0\u001b[0m\u001b[0;34m]\u001b[0m\u001b[0;34m)\u001b[0m\u001b[0;34m)\u001b[0m\u001b[0;34m\u001b[0m\u001b[0;34m\u001b[0m\u001b[0m\n",
      "\u001b[0;32m/usr/local/neurosoft/miniconda3/lib/python3.6/site-packages/nibabel/loadsave.py\u001b[0m in \u001b[0;36mload\u001b[0;34m(filename, **kwargs)\u001b[0m\n\u001b[1;32m     54\u001b[0m \u001b[0;34m\u001b[0m\u001b[0m\n\u001b[1;32m     55\u001b[0m     raise ImageFileError('Cannot work out file type of \"%s\"' %\n\u001b[0;32m---> 56\u001b[0;31m                          filename)\n\u001b[0m\u001b[1;32m     57\u001b[0m \u001b[0;34m\u001b[0m\u001b[0m\n\u001b[1;32m     58\u001b[0m \u001b[0;34m\u001b[0m\u001b[0m\n",
      "\u001b[0;31mImageFileError\u001b[0m: Cannot work out file type of \"/nfs/s2/userhome/gongzhengxin/pub/hcp/100206/MNINonLinear/fsaverage_LR32k/100206.32k_fs_LR.wb.spec\""
     ]
    }
   ],
   "source": [
    "from os.path import join as pjoin\n",
    "mfws = nib.load(pjoin(subpath,mnifslr, mfwbspec[0]))\n",
    "mnws = nib.load(pjoin(subpath,mninati, mnwbspec[0]))\n",
    "tfws = nib.load(pjoin(subpath,t1wfslr, t1fswbspec[0]))\n",
    "tnws = nib.load(pjoin(subpath,t1wnati, t1nawbspec[0]))"
   ]
  },
  {
   "cell_type": "code",
   "execution_count": 99,
   "metadata": {
    "collapsed": true
   },
   "outputs": [
    {
     "name": "stdout",
     "output_type": "stream",
     "text": [
      "['100206.L.flat.32k_fs_LR.surf.gii', '100206.L.inflated.32k_fs_LR.surf.gii', '100206.L.inflated_MSMAll.32k_fs_LR.surf.gii', '100206.L.midthickness.32k_fs_LR.surf.gii', '100206.L.midthickness_MSMAll.32k_fs_LR.surf.gii', '100206.L.pial.32k_fs_LR.surf.gii', '100206.L.pial_MSMAll.32k_fs_LR.surf.gii', '100206.L.sphere.32k_fs_LR.surf.gii', '100206.L.very_inflated.32k_fs_LR.surf.gii', '100206.L.very_inflated_MSMAll.32k_fs_LR.surf.gii', '100206.L.white.32k_fs_LR.surf.gii', '100206.L.white_MSMAll.32k_fs_LR.surf.gii', '100206.R.flat.32k_fs_LR.surf.gii', '100206.R.inflated.32k_fs_LR.surf.gii', '100206.R.inflated_MSMAll.32k_fs_LR.surf.gii', '100206.R.midthickness.32k_fs_LR.surf.gii', '100206.R.midthickness_MSMAll.32k_fs_LR.surf.gii', '100206.R.pial.32k_fs_LR.surf.gii', '100206.R.pial_MSMAll.32k_fs_LR.surf.gii', '100206.R.sphere.32k_fs_LR.surf.gii', '100206.R.very_inflated.32k_fs_LR.surf.gii', '100206.R.very_inflated_MSMAll.32k_fs_LR.surf.gii', '100206.R.white.32k_fs_LR.surf.gii', '100206.R.white_MSMAll.32k_fs_LR.surf.gii']\n",
      "['100206.L.inflated.native.surf.gii', '100206.L.midthickness.native.surf.gii', '100206.L.pial.native.surf.gii', '100206.L.sphere.MSMAll.native.surf.gii', '100206.L.sphere.MSMSulc.native.surf.gii', '100206.L.sphere.native.surf.gii', '100206.L.sphere.reg.native.surf.gii', '100206.L.sphere.reg.reg_LR.native.surf.gii', '100206.L.sphere.rot.native.surf.gii', '100206.L.very_inflated.native.surf.gii', '100206.L.white.native.surf.gii', '100206.R.inflated.native.surf.gii', '100206.R.midthickness.native.surf.gii', '100206.R.pial.native.surf.gii', '100206.R.sphere.MSMAll.native.surf.gii', '100206.R.sphere.MSMSulc.native.surf.gii', '100206.R.sphere.native.surf.gii', '100206.R.sphere.reg.native.surf.gii', '100206.R.sphere.reg.reg_LR.native.surf.gii', '100206.R.sphere.rot.native.surf.gii', '100206.R.very_inflated.native.surf.gii', '100206.R.white.native.surf.gii']\n",
      "['100206.L.inflated.32k_fs_LR.surf.gii', '100206.L.inflated_MSMAll.32k_fs_LR.surf.gii', '100206.L.midthickness.32k_fs_LR.surf.gii', '100206.L.midthickness_MSMAll.32k_fs_LR.surf.gii', '100206.L.pial.32k_fs_LR.surf.gii', '100206.L.pial_MSMAll.32k_fs_LR.surf.gii', '100206.L.very_inflated.32k_fs_LR.surf.gii', '100206.L.very_inflated_MSMAll.32k_fs_LR.surf.gii', '100206.L.white.32k_fs_LR.surf.gii', '100206.L.white_MSMAll.32k_fs_LR.surf.gii', '100206.R.inflated.32k_fs_LR.surf.gii', '100206.R.inflated_MSMAll.32k_fs_LR.surf.gii', '100206.R.midthickness.32k_fs_LR.surf.gii', '100206.R.midthickness_MSMAll.32k_fs_LR.surf.gii', '100206.R.pial.32k_fs_LR.surf.gii', '100206.R.pial_MSMAll.32k_fs_LR.surf.gii', '100206.R.very_inflated.32k_fs_LR.surf.gii', '100206.R.very_inflated_MSMAll.32k_fs_LR.surf.gii', '100206.R.white.32k_fs_LR.surf.gii', '100206.R.white_MSMAll.32k_fs_LR.surf.gii']\n",
      "['100206.L.inflated.native.surf.gii', '100206.L.midthickness.native.surf.gii', '100206.L.pial.native.surf.gii', '100206.L.very_inflated.native.surf.gii', '100206.L.white.native.surf.gii', '100206.R.inflated.native.surf.gii', '100206.R.midthickness.native.surf.gii', '100206.R.pial.native.surf.gii', '100206.R.very_inflated.native.surf.gii', '100206.R.white.native.surf.gii']\n"
     ]
    }
   ],
   "source": [
    "print(mfsurfgii);print(mnsurfgii);print(t1fssurfgii);print(t1nasurfgii)"
   ]
  },
  {
   "cell_type": "code",
   "execution_count": 105,
   "metadata": {
    "collapsed": false
   },
   "outputs": [],
   "source": [
    "mfsg = nib.load(pjoin(subpath,mnifslr, mfsurfgii[1]))\n",
    "mnsg = nib.load(pjoin(subpath,mninati, mnsurfgii[0]))\n",
    "tfsg = nib.load(pjoin(subpath,t1wfslr, t1fssurfgii[0]))\n",
    "tnsg = nib.load(pjoin(subpath,t1wnati, t1nasurfgii[0]))\n",
    "sg = [mfsg, mnsg, tfsg, tnsg]"
   ]
  },
  {
   "cell_type": "code",
   "execution_count": 118,
   "metadata": {
    "collapsed": false
   },
   "outputs": [
    {
     "name": "stderr",
     "output_type": "stream",
     "text": [
      "/usr/local/neurosoft/miniconda3/lib/python3.6/site-packages/ipykernel/__main__.py:1: DeprecationWarning: elementwise comparison failed; this will raise an error in the future.\n",
      "  if __name__ == '__main__':\n"
     ]
    },
    {
     "data": {
      "text/plain": [
       "False"
      ]
     },
     "execution_count": 118,
     "metadata": {},
     "output_type": "execute_result"
    }
   ],
   "source": [
    "mfsg.agg_data('triangle') == mnsg.agg_data('triangle')\n"
   ]
  },
  {
   "cell_type": "code",
   "execution_count": 125,
   "metadata": {
    "collapsed": false
   },
   "outputs": [
    {
     "name": "stdout",
     "output_type": "stream",
     "text": [
      "(64980, 3)\n",
      "(333470, 3)\n",
      "(64980, 3)\n",
      "(333470, 3)\n"
     ]
    }
   ],
   "source": [
    "print(mfsg.agg_data('triangle').shape)\n",
    "print(mnsg.agg_data('triangle').shape)\n",
    "print(tfsg.agg_data('triangle').shape)\n",
    "print(tnsg.agg_data('triangle').shape)"
   ]
  },
  {
   "cell_type": "code",
   "execution_count": 123,
   "metadata": {
    "collapsed": false
   },
   "outputs": [
    {
     "name": "stdout",
     "output_type": "stream",
     "text": [
      "100206.L.inflated.32k_fs_LR.surf.gii,100206.L.inflated.native.surf.gii\n",
      "100206.L.inflated.32k_fs_LR.surf.gii,100206.L.inflated.native.surf.gii\n"
     ]
    }
   ],
   "source": [
    "print('%s,%s\\n%s,%s' % (mfsurfgii[1],mnsurfgii[0],t1fssurfgii[0], t1nasurfgii[0]))"
   ]
  },
  {
   "cell_type": "code",
   "execution_count": 129,
   "metadata": {
    "collapsed": false
   },
   "outputs": [
    {
     "name": "stdout",
     "output_type": "stream",
     "text": [
      "(32492, 3)\n",
      "(166737, 3)\n",
      "(32492, 3)\n",
      "(166737, 3)\n"
     ]
    }
   ],
   "source": [
    "print(mfsg.agg_data('pointset') .shape)\n",
    "print(mnsg.agg_data('pointset') .shape)\n",
    "print(tfsg.agg_data('pointset') .shape)\n",
    "print(tnsg.agg_data('pointset') .shape)"
   ]
  },
  {
   "cell_type": "code",
   "execution_count": 130,
   "metadata": {
    "collapsed": false
   },
   "outputs": [
    {
     "data": {
      "text/plain": [
       "array([[ -3.561956, -48.457653,  25.702774],\n",
       "       [-21.0339  , -52.895763,  66.44783 ],\n",
       "       [-55.280758, -10.748844,  42.364323],\n",
       "       ...,\n",
       "       [-61.875923, -52.15488 , -11.068037],\n",
       "       [-62.051647, -52.27794 , -10.268513],\n",
       "       [-61.279976, -53.664013, -10.532602]], dtype=float32)"
      ]
     },
     "execution_count": 130,
     "metadata": {},
     "output_type": "execute_result"
    }
   ],
   "source": [
    "tfsg.agg_data('pointset')"
   ]
  },
  {
   "cell_type": "code",
   "execution_count": 124,
   "metadata": {
    "collapsed": false
   },
   "outputs": [
    {
     "data": {
      "text/plain": [
       "array([[ -6.072539  , -48.977173  ,  35.496357  ],\n",
       "       [-21.551802  , -44.539196  ,  74.85561   ],\n",
       "       [-52.929497  ,  -0.96728915,  48.960106  ],\n",
       "       ...,\n",
       "       [-65.13545   , -50.94303   ,  -6.8851004 ],\n",
       "       [-65.31641   , -50.933895  ,  -5.978901  ],\n",
       "       [-64.71874   , -52.155796  ,  -6.1791143 ]], dtype=float32)"
      ]
     },
     "execution_count": 124,
     "metadata": {},
     "output_type": "execute_result"
    }
   ],
   "source": [
    "mfsg.agg_data('pointset') "
   ]
  },
  {
   "cell_type": "code",
   "execution_count": 131,
   "metadata": {
    "collapsed": false
   },
   "outputs": [
    {
     "data": {
      "text/plain": [
       "array([[ -11.671311 , -105.0464   ,    2.429881 ],\n",
       "       [ -11.814978 , -105.099304 ,    2.1582372],\n",
       "       [ -12.209246 , -105.22348  ,    2.028217 ],\n",
       "       ...,\n",
       "       [  -8.283559 ,   60.972057 ,  -10.071612 ],\n",
       "       [  -8.396214 ,   61.351536 ,  -10.006061 ],\n",
       "       [  -8.449939 ,   61.36954  ,   -8.399503 ]], dtype=float32)"
      ]
     },
     "execution_count": 131,
     "metadata": {},
     "output_type": "execute_result"
    }
   ],
   "source": [
    "mnsg.agg_data('pointset') "
   ]
  },
  {
   "cell_type": "code",
   "execution_count": 132,
   "metadata": {
    "collapsed": false
   },
   "outputs": [
    {
     "data": {
      "text/plain": [
       "array([[  -6.3925843, -109.05185  ,   -2.7340884],\n",
       "       [  -6.5310965, -109.093544 ,   -3.0372503],\n",
       "       [  -6.928947 , -109.24013  ,   -3.1985388],\n",
       "       ...,\n",
       "       [  -7.3188267,   62.342453 ,  -10.8160305],\n",
       "       [  -7.467335 ,   62.72661  ,  -10.711945 ],\n",
       "       [  -7.5719852,   62.637157 ,   -9.340063 ]], dtype=float32)"
      ]
     },
     "execution_count": 132,
     "metadata": {},
     "output_type": "execute_result"
    }
   ],
   "source": [
    "tnsg.agg_data('pointset') "
   ]
  },
  {
   "cell_type": "code",
   "execution_count": 133,
   "metadata": {
    "collapsed": true
   },
   "outputs": [
    {
     "ename": "SyntaxError",
     "evalue": "invalid syntax (<ipython-input-133-beb623dce45b>, line 1)",
     "output_type": "error",
     "traceback": [
      "\u001b[0;36m  File \u001b[0;32m\"<ipython-input-133-beb623dce45b>\"\u001b[0;36m, line \u001b[0;32m1\u001b[0m\n\u001b[0;31m    export sub=/nfs/s2/userhome/gongzhengxin/fmridata/ciftify/sub-core02\u001b[0m\n\u001b[0m             ^\u001b[0m\n\u001b[0;31mSyntaxError\u001b[0m\u001b[0;31m:\u001b[0m invalid syntax\n"
     ]
    }
   ],
   "source": [
    "export sub=/nfs/s2/userhome/gongzhengxin/fmridata/ciftify/sub-core02\n",
    "export home=/nfs/s2/userhome/gongzhengxin\n",
    "ls $sub/MNINonLinear/fsaverage_LR32k/ > $home/workingdir/MNIfs2.txt\n",
    "ls $sub/MNINonLinear/Native/ > $home/workingdir/MNIna2.txt\n",
    "ls $sub/T1w/fsaverage_LR32k/ > $home/workingdir/t1fs2.txt\n",
    "ls $sub/T1w/Native > $home/workingdir/t1na2.txt"
   ]
  },
  {
   "cell_type": "code",
   "execution_count": null,
   "metadata": {
    "collapsed": true
   },
   "outputs": [],
   "source": []
  }
 ],
 "metadata": {
  "kernelspec": {
   "display_name": "Python [miniconda3]",
   "language": "python",
   "name": "Python [miniconda3]"
  },
  "language_info": {
   "codemirror_mode": {
    "name": "ipython",
    "version": 3
   },
   "file_extension": ".py",
   "mimetype": "text/x-python",
   "name": "python",
   "nbconvert_exporter": "python",
   "pygments_lexer": "ipython3",
   "version": "3.6.7"
  }
 },
 "nbformat": 4,
 "nbformat_minor": 0
}
