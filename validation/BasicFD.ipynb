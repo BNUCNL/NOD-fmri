{
 "cells": [
  {
   "cell_type": "code",
   "execution_count": null,
   "metadata": {},
   "outputs": [],
   "source": [
    "import os\n",
    "import numpy as np\n",
    "import pandas as pd\n",
    "import matplotlib as mpl\n",
    "import matplotlib.pyplot as plt\n",
    "from os.path import join as pjoin\n",
    "\n",
    "from matplotlib import font_manager\n",
    "font_manager.fontManager.addfont('./supportfiles/arial.ttf')\n",
    "\n",
    "# define default plots\n",
    "mpl.rcParams['axes.linewidth'] = 2\n",
    "mpl.rcParams.update({'font.size': 12, 'font.family': 'Arial', 'mathtext.fontset': 'stix'})"
   ]
  },
  {
   "cell_type": "code",
   "execution_count": null,
   "metadata": {},
   "outputs": [],
   "source": [
    "def adjacent_values(vals, q1, q3):\n",
    "    upper_adjacent_value = q3 + (q3 - q1) * 1.5\n",
    "    upper_adjacent_value = np.clip(upper_adjacent_value, q3, vals[-1])\n",
    "    lower_adjacent_value = q1 - (q3 - q1) * 1.5\n",
    "    lower_adjacent_value = np.clip(lower_adjacent_value, vals[0], q1)\n",
    "    return lower_adjacent_value, upper_adjacent_value"
   ]
  },
  {
   "attachments": {},
   "cell_type": "markdown",
   "metadata": {},
   "source": [
    "### Frame Displacement calculation"
   ]
  },
  {
   "cell_type": "code",
   "execution_count": null,
   "metadata": {},
   "outputs": [],
   "source": [
    "# define path\n",
    "dataset_path = 'PATH TO DATASET'\n",
    "fmripreppath = f'{dataset_path}/derivatives/fmriprep'\n",
    "bq_path = 'PATH TO SAVE RESULTS' \n",
    "fig_path = 'PATH TO SAVE FIGURES' "
   ]
  },
  {
   "cell_type": "code",
   "execution_count": null,
   "metadata": {},
   "outputs": [],
   "source": [
    "# define motion variables\n",
    "mot_params = ['trans_x', 'trans_y', 'trans_z', 'rot_x', 'rot_y', 'rot_z']\n",
    "\n",
    "# define task name and metrics\n",
    "taskname = 'floc' # 'coco', 'prf', 'imagenet'\n",
    "metric = 'median'\n",
    "# generate subject list\n",
    "if taskname == 'imagenet': subs = ['sub-{:02d}'.format(i) for i in range(1,31)]\n",
    "else: subs = ['sub-{:02d}'.format(i) for i in range(1,10)]\n",
    "\n",
    "# initialize the data\n",
    "all_fd = np.zeros((len(subs),), dtype=object)\n",
    "all_fd_quota = np.zeros((len(subs),), dtype=object)\n",
    "if metric =='mean': quota_metric = np.nanmean\n",
    "elif metric == 'median' : quota_metric = np.nanmedian\n",
    "\n",
    "# subject loop\n",
    "for i, sub in enumerate(subs):\n",
    "    # fetch sessions\n",
    "    sessions = sorted([_ for _ in os.listdir(pjoin(fmripreppath, sub)) if taskname in _])\n",
    "    # initialize\n",
    "    run_all_fd, run_fd_quota = [], []\n",
    "    # session loop\n",
    "    for session in sessions:\n",
    "        confound_files = [_ for _ in os.listdir(pjoin(fmripreppath, sub, session, 'func')) if 'timeseries.tsv' in _]\n",
    "        for file in confound_files:\n",
    "            df = pd.read_csv(pjoin(fmripreppath,f'{sub}/{session}/func/{file}'), sep='\\t')\n",
    "            # gather all  FD\n",
    "            FmDp = np.sum(tuple([np.abs(df[_].values) for _ in mot_params]), axis=0)\n",
    "            run_all_fd.extend(list(FmDp))\n",
    "            # calc FD quota\n",
    "            FD_index = quota_metric(FmDp)\n",
    "            run_fd_quota.append(FD_index)\n",
    "    all_fd[i] = np.array(run_all_fd)\n",
    "    all_fd_quota[i] = np.array(run_fd_quota)\n",
    "\n",
    "# save\n",
    "np.save(pjoin(bq_path, f'sub-{taskname}_allfd.npy'), all_fd)\n",
    "if metric == 'median': np.save(pjoin(bq_path, f'sub-{taskname}_allmedianfd.npy'), all_fd_quota)\n",
    "if metric == 'mean': np.save(pjoin(bq_path, f'sub-{taskname}_allmeanfd.npy'), all_fd_quota)"
   ]
  },
  {
   "attachments": {},
   "cell_type": "markdown",
   "metadata": {},
   "source": [
    "### Frame Displacement load for checking"
   ]
  },
  {
   "cell_type": "code",
   "execution_count": null,
   "metadata": {},
   "outputs": [],
   "source": [
    "all_fd_mean = np.load(pjoin(bq_path, 'sub_allmeanfd.npy'), allow_pickle=True)\n",
    "all_fd_median = np.load(pjoin(bq_path, 'sub_allmedianfd.npy'), allow_pickle=True)\n",
    "all_fd = np.load(pjoin(bq_path, 'sub_allfd.npy'), allow_pickle=True)"
   ]
  },
  {
   "attachments": {},
   "cell_type": "markdown",
   "metadata": {},
   "source": [
    "### Plots"
   ]
  },
  {
   "attachments": {},
   "cell_type": "markdown",
   "metadata": {},
   "source": [
    "#### for imagenet"
   ]
  },
  {
   "cell_type": "code",
   "execution_count": null,
   "metadata": {},
   "outputs": [],
   "source": [
    "# plots settings\n",
    "mpl.rcParams.update({'font.size': 10.5, 'font.family': 'Arial', 'mathtext.fontset': 'stix'})\n",
    "fig,ax = plt.subplots(figsize=(7,1.2))\n",
    "width=0.7\n",
    "font_size = 10.5\n",
    "\n",
    "# load data\n",
    "taskname = 'imagenet'\n",
    "all_fd_mean = np.load(pjoin(bq_path, f'sub-{taskname}_allmeanfd.npy'), allow_pickle=True)\n",
    "all_fd_median = np.load(pjoin(bq_path, f'sub-{taskname}_allmedianfd.npy'), allow_pickle=True)\n",
    "all_fd = np.load(pjoin(bq_path, f'sub-{taskname}_allfd.npy'), allow_pickle=True)\n",
    "\n",
    "# index appointment\n",
    "draw_index =  all_fd \n",
    "index_name =  'FD(mm)' \n",
    "\n",
    "# draw for each subject\n",
    "for i, data in enumerate(draw_index) :\n",
    "    parts = ax.violinplot(data, positions=[i], widths=width,showextrema=False,showmedians=False, vert=True)\n",
    "    for pc in parts['bodies']:\n",
    "        pc.set_facecolor('#81C6E8')\n",
    "        pc.set_alpha(0.55)\n",
    "    q1, medians, q3 = np.percentile(np.sort(data), [25, 50, 75], axis=0)\n",
    "    whiskers = np.array([adjacent_values(np.sort(data), q1, q3)])\n",
    "    whiskers_min, whiskers_max = whiskers[:, 0], whiskers[:, 1]\n",
    "    ax.scatter(i, medians, marker='o', color='#B73E3E', s=10, zorder=3)\n",
    "    ax.vlines(i, whiskers_min, whiskers_max, color='k', linestyle='-', lw=1.2, alpha=0.3)\n",
    "    ax.vlines(i, q1, q3, color='red',edgecolors='#E97777', linestyle='-', lw=3.6)\n",
    "# reference line\n",
    "ax.axhline(y=0.5, color='gray', ls='--')\n",
    "\n",
    "# axis settings\n",
    "# x-axis\n",
    "ax.set_xlim([-0.9,29.52])\n",
    "ax.set_xticks(np.arange(30))\n",
    "ax.set_xticklabels(['{:d}'.format(i+1) for i in np.arange(30)])\n",
    "ax.set_xlabel(f'subject',fontsize=font_size)\n",
    "# y-axis\n",
    "ax.set_ylim([0,1.25])\n",
    "# ax.set_yticks([0,1,2,3])\n",
    "# ax.set_yticklabels([],fontsize=10.5)\n",
    "ax.set_ylabel(index_name, fontsize=font_size)\n",
    "# spinses and ticks\n",
    "ax.spines['top'].set_visible(False)\n",
    "ax.spines['right'].set_visible(False)\n",
    "ax.spines['left'].set_linewidth(2.0)\n",
    "ax.spines['bottom'].set_linewidth(2.0)\n",
    "ax.tick_params(labelsize=font_size, width=1, length=3, direction=\"in\", pad=2)\n",
    "# save out\n",
    "fig.savefig(pjoin(fig_path, f'{index_name}-{taskname}.jpg'),dpi=72*4,bbox_inches='tight')\n",
    "plt.show()"
   ]
  },
  {
   "attachments": {},
   "cell_type": "markdown",
   "metadata": {},
   "source": [
    "#### plot for coco / prf / floc"
   ]
  },
  {
   "cell_type": "code",
   "execution_count": null,
   "metadata": {},
   "outputs": [],
   "source": [
    "# plots setting\n",
    "mpl.rcParams.update({'font.size': 10.5, 'font.family': 'Arial', 'mathtext.fontset': 'stix'})\n",
    "fig,axs = plt.subplots(1,3,figsize=(7.2,1))\n",
    "width=0.7\n",
    "font_size = 10.5\n",
    "\n",
    "# load data\n",
    "tasknames = ['coco', 'floc', 'prf']\n",
    "for j, ax in enumerate(axs):\n",
    "    # load data\n",
    "    taskname = tasknames[j]\n",
    "    all_fd_mean = np.load(pjoin(bq_path, f'sub-{taskname}_allmeanfd.npy'), allow_pickle=True)\n",
    "    all_fd_median = np.load(pjoin(bq_path, f'sub-{taskname}_allmedianfd.npy'), allow_pickle=True)\n",
    "    all_fd = np.load(pjoin(bq_path, f'sub-{taskname}_allfd.npy'), allow_pickle=True)\n",
    "    # index appointment\n",
    "    draw_index =all_fd #  all_fd_mean # all_fd_median # \n",
    "    index_name =  'FD(mm)' # 'mean FD(mm)'#'median FD(mm)' #\n",
    "    # draw for each subject\n",
    "    for i, data in enumerate(draw_index) :\n",
    "        parts = ax.violinplot(data, positions=[i], widths=width,showextrema=False,showmedians=False, vert=True)\n",
    "        for pc in parts['bodies']:\n",
    "            pc.set_facecolor('#81C6E8')\n",
    "            pc.set_alpha(0.55)\n",
    "        q1, medians, q3 = np.percentile(np.sort(data), [25, 50, 75], axis=0)\n",
    "        whiskers = np.array([adjacent_values(np.sort(data), q1, q3)])\n",
    "        whiskers_min, whiskers_max = whiskers[:, 0], whiskers[:, 1]\n",
    "        ax.scatter(i, medians, marker='o', color='#B73E3E', s=10, zorder=3)\n",
    "        ax.vlines(i, whiskers_min, whiskers_max, color='k', linestyle='-', lw=1.2, alpha=0.3)\n",
    "        ax.vlines(i, q1, q3, color='red',edgecolors='#E97777', linestyle='-', lw=3.6)\n",
    "    # reference line\n",
    "    ax.axhline(y=0.5, color='gray', ls='--')\n",
    "    # axis settings\n",
    "    # x-axis\n",
    "    ax.set_xticks(np.arange(9))\n",
    "    ax.set_xticklabels(['{:d}'.format(i+1) for i in np.arange(9)])\n",
    "    ax.set_xlim([-0.8,8.5])\n",
    "    # y-axis\n",
    "    ax.set_ylim([0,1.25])\n",
    "    ax.set_yticks([0,.5,1])\n",
    "    # ax.set_yticklabels([],fontsize=10.5)\n",
    "    if j == 0:\n",
    "        ax.set_ylabel(index_name, fontsize=font_size)\n",
    "    ax.set_xlabel(f'subject',fontsize=font_size)#({taskname})\n",
    "    # spines and ticks\n",
    "    ax.spines['top'].set_visible(False)\n",
    "    ax.spines['right'].set_visible(False)\n",
    "    ax.spines['left'].set_linewidth(2.0)\n",
    "    ax.spines['bottom'].set_linewidth(2.0)\n",
    "    ax.tick_params(labelsize=font_size, width=1, length=3, direction=\"in\", pad=2)\n",
    "# save out\n",
    "fig.savefig(fig_path, pjoin(f'{index_name}-{tasknames}.jpg'),dpi=72*4,bbox_inches='tight')\n",
    "plt.show()"
   ]
  }
 ],
 "metadata": {
  "kernelspec": {
   "display_name": "Python 3.8.5 ('base')",
   "language": "python",
   "name": "python3"
  },
  "language_info": {
   "codemirror_mode": {
    "name": "ipython",
    "version": 3
   },
   "file_extension": ".py",
   "mimetype": "text/x-python",
   "name": "python",
   "nbconvert_exporter": "python",
   "pygments_lexer": "ipython3",
   "version": "3.8.5"
  },
  "orig_nbformat": 4,
  "vscode": {
   "interpreter": {
    "hash": "ded51e6ae5fb79fea0b0420ae45d65595baa7e9f6ec8445524f1c7cb23aaaa4c"
   }
  }
 },
 "nbformat": 4,
 "nbformat_minor": 2
}
