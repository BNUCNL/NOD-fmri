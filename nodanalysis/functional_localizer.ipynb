{
 "cells": [
  {
   "cell_type": "code",
   "execution_count": 1,
   "metadata": {},
   "outputs": [
    {
     "name": "stderr",
     "output_type": "stream",
     "text": [
      "/usr/local/neurosoft/anaconda3/lib/python3.8/site-packages/nilearn/glm/__init__.py:55: FutureWarning: The nilearn.glm module is experimental. It may change in any future release of Nilearn.\n",
      "  warn('The nilearn.glm module is experimental. '\n"
     ]
    }
   ],
   "source": [
    "import os\n",
    "import json\n",
    "import subprocess\n",
    "import numpy as np\n",
    "import pandas as pd\n",
    "import pickle as pkl\n",
    "import nibabel as nib\n",
    "import scipy.io as sio\n",
    "import matplotlib as mpl\n",
    "import matplotlib.pyplot as plt\n",
    "from sklearn.metrics import pairwise_distances\n",
    "from os.path import join as pjoin\n",
    "from mpl_toolkits.axes_grid1 import make_axes_locatable\n",
    "from sklearn.preprocessing import StandardScaler\n",
    "from sklearn.linear_model import LinearRegression, Ridge, Lasso\n",
    "from nilearn.glm.first_level import make_first_level_design_matrix, run_glm\n",
    "from nilearn.glm.contrasts import compute_contrast\n",
    "# define path\n",
    "beta_path = '/nfs/z1/zhenlab/BrainImageNet/NaturalObject/data/bold/derivatives/beta'\n",
    "melodic_path= '/nfs/z1/zhenlab/BrainImageNet/NaturalObject/data/bold/derivatives/melodic/'\n",
    "fmriprep_path = '/nfs/z1/zhenlab/BrainImageNet/NaturalObject/data/bold/derivatives/fmriprep'\n",
    "ciftify_path = '/nfs/z1/zhenlab/BrainImageNet/NaturalObject/data/bold/derivatives/ciftify'\n",
    "nifti_path = '/nfs/z1/zhenlab/BrainImageNet/NaturalObject/data/bold/nifti'\n",
    "main_path = '/nfs/z1/zhenlab/BrainImageNet/Analysis_results/'\n",
    "beh_path = '/nfs/z1/zhenlab/BrainImageNet/NaturalObject/data/behavior/LOCdata'\n",
    "result_path = '/nfs/z1/zhenlab/BrainImageNet/Analysis_results/data_paper/result'\n",
    "\n",
    "# define plot utils\n",
    "mpl.rcParams['axes.linewidth'] = 2\n",
    "mpl.rcParams.update({'font.size': 12, 'font.family': 'STIXGeneral', 'mathtext.fontset': 'stix'})\n",
    "\n",
    "# generate surface map for tSNR\n",
    "def save_ciftifile(data, filename):\n",
    "    template = '/nfs/z1/zhenlab/BrainImageNet/NaturalObject/data/bold/Analysis_derivatives/ciftify/sub-core02/MNINonLinear/Results/ses-ImageNet01_task-object_run-1/ses-ImageNet01_task-object_run-1_Atlas.dtseries.nii'\n",
    "    ex_cii = nib.load(template)\n",
    "    if len(data.shape) > 1:\n",
    "        ex_cii.header.get_index_map(0).number_of_series_points = data.shape[0]\n",
    "    else:\n",
    "        ex_cii.header.get_index_map(0).number_of_series_points = 1\n",
    "        data = data[np.newaxis, :]\n",
    "    nib.save(nib.Cifti2Image(data.astype(np.float32), ex_cii.header), filename)"
   ]
  },
  {
   "cell_type": "code",
   "execution_count": null,
   "metadata": {},
   "outputs": [],
   "source": []
  },
  {
   "cell_type": "code",
   "execution_count": null,
   "metadata": {},
   "outputs": [],
   "source": [
    "# load design and perform GLM\n",
    "# load nifti events and define the design matrix\n",
    "# prepare params\n",
    "n_event = 10\n",
    "n_tr = 150\n",
    "tr = 2\n",
    "frame_times = np.arange(n_tr) * tr\n",
    "sub_names = sorted(os.listdir(beh_path))\n",
    "\n",
    "beta_sum = np.zeros((len(sub_names), 10, 91282))\n",
    "beta_sum_path = pjoin(result_path, 'functional_localizer', f'sub-all_localizer-beta_s2.npy')\n",
    "for sub_id, sub_beh_name in enumerate(sub_names[:1]):\n",
    "    sub_name = 'sub-' + sub_beh_name.split('_')[0][-2:]\n",
    "    beta_sub_path = pjoin(beta_path, sub_name, f'{sub_name}_localizer-beta_s2.npy')\n",
    "    if not os.path.exists(beta_sub_path):\n",
    "        beta_sub = np.zeros((1, 10, 91282))\n",
    "        sub_name = 'sub-' + sub_beh_name.split('_')[0][-2:]\n",
    "        fLoc_path = pjoin(beh_path, sub_beh_name, 'fLoc')\n",
    "        sess_names = sorted([i for i in os.listdir(fLoc_path) if os.path.isdir(pjoin(fLoc_path, i))])\n",
    "        # start runnning\n",
    "        for sess_id, sess_name in enumerate(sess_names):\n",
    "            sess_path = pjoin(fLoc_path, sess_name)\n",
    "            run_names = sorted([i for i in os.listdir(sess_path) if i.endswith('.par')])\n",
    "            for run_id, run_name in enumerate(run_names[:1]):\n",
    "                run_path = pjoin(sess_path, run_name)\n",
    "                run_par = pd.read_csv(run_path, sep=' ', header=None)\n",
    "                run_par = run_par.drop(run_par.columns[1], axis=1).dropna(axis=1)\n",
    "                # fit design matrix based on trial onset time\n",
    "                onset = run_par.iloc[:, 0].to_numpy()\n",
    "                category_idx = run_par.iloc[:, 1].to_numpy()\n",
    "                category_names = run_par.iloc[:, 2]\n",
    "                # detele baseline trial type\n",
    "                category_loc = category_idx != 0\n",
    "                onset = onset[category_loc]\n",
    "                trial_type = category_names[category_loc]\n",
    "                duration = np.repeat(4, trial_type.shape[0])\n",
    "                # prepare design matrix\n",
    "                events_used = pd.DataFrame({'trial_type':trial_type, 'onset':onset, 'duration':duration})\n",
    "                design_matrix = make_first_level_design_matrix(frame_times, events_used, drift_model='polynomial', \n",
    "                                                                drift_order=3, hrf_model='spm')\n",
    "                design_matrix_task = np.array(design_matrix)[:, :10]\n",
    "                # load dtseries\n",
    "                run_name = 'ses-Localizer%02d_task-category_run-%d'%(sess_id+1, run_id+1)\n",
    "                dtseries_path = pjoin(ciftify_path, sub_name, 'MNINonLinear/Results/', run_name, \n",
    "                                    f'{run_name}_Atlas_clean.dtseries.nii')\n",
    "                dtseries = nib.load(dtseries_path).get_fdata()\n",
    "                # perform GLM\n",
    "                reg = LinearRegression().fit(design_matrix_task, dtseries)\n",
    "                r_square = reg.score(design_matrix_task, dtseries)\n",
    "                beta = reg.coef_[:, :n_event].transpose(1, 0).astype(np.float32)\n",
    "                print('GLM model explained variance: %.2f in %s %s'%(r_square.mean(), sub_name, run_name))\n",
    "                # save beta\n",
    "                beta_sub = np.concatenate((beta_sub, beta[np.newaxis, :, :]), axis=0)\n",
    "        beta_sub = np.delete(beta_sub, 0, axis=0)\n",
    "        beta_sub = np.mean(beta_sub, axis=0)\n",
    "        np.save(beta_sub_path, beta_sub.astype(np.float32))\n",
    "    else:\n",
    "        beta_sub = np.load(beta_sub_path)\n",
    "    print(f'Finish loading {sub_name}')\n",
    "    beta_sum[sub_id] = beta_sub\n",
    "beta_sum = beta_sum.mean(axis=0)\n",
    "np.save(beta_sum_path, beta_sum.astype(np.float32))\n",
    "    "
   ]
  },
  {
   "cell_type": "code",
   "execution_count": null,
   "metadata": {},
   "outputs": [],
   "source": [
    "# generate specified localizer: from http://vpnl.stanford.edu/fLoc/\n",
    "# order: 0: adult; 1: body; 2: car; 3: child; 4: corridor; 5: house; 6: instrument; 7: limb; 8: number; 9: word\n",
    "# Character-selective regions: [word number] > [body limb child adult corridor house car instrument]\n",
    "# Body-selective regions: [body limb] > [word number child adult corridor house car instrument]\n",
    "# Face-selective regions: [child adult] > [word number body limb corridor house car instrument]\n",
    "# Place-selective regions: [corridor house] > [word number body limb child adult car instrument]\n",
    "# Object-selective regions: [car instrument] > [word number body limb child adult corridor house]\n",
    "\n",
    "# generate surface map for\n",
    "def save_ciftifile(data, filename):\n",
    "    template = '/nfs/z1/zhenlab/BrainImageNet/NaturalObject/data/bold/Analysis_derivatives/ciftify/sub-core02/MNINonLinear/Results/ses-ImageNet01_task-object_run-1/ses-ImageNet01_task-object_run-1_Atlas.dtseries.nii'\n",
    "    ex_cii = nib.load(template)\n",
    "    if len(data.shape) > 1:\n",
    "        ex_cii.header.get_index_map(0).number_of_series_points = data.shape[0]\n",
    "    else:\n",
    "        ex_cii.header.get_index_map(0).number_of_series_points = 1\n",
    "        data = data[np.newaxis, :]\n",
    "    nib.save(nib.Cifti2Image(data.astype(np.float32), ex_cii.header), filename)\n",
    "\n",
    "contrast_correspond = {'character': [8, 9], 'body': [1, 7], 'face': [0, 3], 'place': [4, 5], 'object': [2, 6]}\n",
    "for contrast_name in contrast_correspond.keys():\n",
    "    contrast_idx = contrast_correspond[contrast_name]\n",
    "    other_idx = list(set(np.arange(10)).difference(set(contrast_idx)))\n",
    "    contrast_map = beta_sum[contrast_idx].mean(axis=0) - beta_sum[other_idx].mean(axis=0)\n",
    "    # save map\n",
    "    save_ciftifile(contrast_map, pjoin(result_path, 'functional_localizer', f'{contrast_name}_map.dtseries.nii'))\n"
   ]
  },
  {
   "cell_type": "code",
   "execution_count": 4,
   "metadata": {},
   "outputs": [
    {
     "name": "stdout",
     "output_type": "stream",
     "text": [
      "Finish estimating in sub-08 ses-Localizer01_task-category_run-1\n",
      "Finish estimating in sub-08 ses-Localizer01_task-category_run-2\n",
      "Finish estimating in sub-08 ses-Localizer01_task-category_run-3\n",
      "Finish loading sub-08\n"
     ]
    }
   ],
   "source": [
    "# load design and perform GLM\n",
    "# load nifti events and define the design matrix\n",
    "# prepare params\n",
    "n_event = 10\n",
    "n_tr = 150\n",
    "tr = 2\n",
    "frame_times = np.arange(n_tr) * tr\n",
    "sub_names = sorted(os.listdir(beh_path))\n",
    "\n",
    "# one subject\n",
    "# sub_names = [_ for _ in sub_names if 'sub08' in _ or 'sub04' in _]\n",
    "sub_names = [_ for _ in sub_names if 'sub08' in _ ]\n",
    "\n",
    "z_score_sum = np.zeros((len(sub_names), 5, 91282))\n",
    "spatial_smooth_code = '_s4'\n",
    "\n",
    "for sub_id, sub_beh_name in enumerate(sub_names):\n",
    "    sub_name = 'sub-' + sub_beh_name.split('_')[0][-2:]\n",
    "    z_score_sub_path = pjoin(beta_path, sub_name, f'{sub_name}_localizer-z_score{spatial_smooth_code}.npy')\n",
    "    # if not os.path.exists(beta_sub_path):\n",
    "    z_score_sub = np.zeros((1, 5, 91282))\n",
    "    sub_name = 'sub-' + sub_beh_name.split('_')[0][-2:]\n",
    "    fLoc_path = pjoin(beh_path, sub_beh_name, 'fLoc')\n",
    "    sess_names = sorted([i for i in os.listdir(fLoc_path) if os.path.isdir(pjoin(fLoc_path, i))])\n",
    "    if '04' in sub_name: # in sub-04, the sess index corresponded wrongly between behaviour and brain data\n",
    "        sess_names = sess_names[::-1]\n",
    "    # start runnning\n",
    "    for sess_id, sess_name in enumerate(sess_names):\n",
    "        sess_path = pjoin(fLoc_path, sess_name)\n",
    "        run_names = sorted([i for i in os.listdir(sess_path) if i.endswith('.par')])\n",
    "        for run_id, run_name in enumerate(run_names):\n",
    "            run_path = pjoin(sess_path, run_name)\n",
    "            run_par = pd.read_csv(run_path, sep=' ', header=None)\n",
    "            run_par = run_par.drop(run_par.columns[1], axis=1).dropna(axis=1)\n",
    "            # fit design matrix based on trial onset time\n",
    "            onset = run_par.iloc[:, 0].to_numpy()\n",
    "            category_idx = run_par.iloc[:, 1].to_numpy()\n",
    "            category_names = run_par.iloc[:, 2]\n",
    "            # detele baseline trial type\n",
    "            category_loc = category_idx != 0\n",
    "            onset = onset[category_loc]\n",
    "            trial_type = category_names[category_loc]\n",
    "            duration = np.repeat(4, trial_type.shape[0])\n",
    "            # prepare design matrix\n",
    "            events_used = pd.DataFrame({'trial_type':trial_type, 'onset':onset, 'duration':duration})\n",
    "            design_matrix = make_first_level_design_matrix(frame_times, events_used, hrf_model='spm')\n",
    "            # load dtseries\n",
    "            run_name = 'ses-Localizer%02d_task-category_run-%d'%(sess_id+1, run_id+1)\n",
    "            dtseries_path = pjoin(ciftify_path, sub_name, 'MNINonLinear/Results/', run_name, \n",
    "                                f'{run_name}_Atlas_clean{spatial_smooth_code}.dtseries.nii')\n",
    "            if not os.path.exists(dtseries_path):\n",
    "                continue\n",
    "            dtseries = nib.load(dtseries_path).get_fdata()\n",
    "            # perform GLM\n",
    "            labels, estimates = run_glm(dtseries, design_matrix.values)\n",
    "\n",
    "            # generate specified localizer: from http://vpnl.stanford.edu/fLoc/\n",
    "            # order: 0: adult; 1: body; 2: car; 3: child; 4: corridor; 5: house; 6: instrument; 7: limb; 8: number; 9: word\n",
    "            # Character-selective regions: [word number] > [body limb child adult corridor house car instrument]\n",
    "            # Body-selective regions: [body limb] > [word number child adult corridor house car instrument]\n",
    "            # Face-selective regions: [child adult] > [word number body limb corridor house car instrument]\n",
    "            # Place-selective regions: [corridor house] > [word number body limb child adult car instrument]\n",
    "            # Object-selective regions: [car instrument] > [word number body limb child adult corridor house]\n",
    "            \n",
    "            contrast_matrix = np.eye(design_matrix.shape[1])\n",
    "            basic_contrasts = dict([(column, contrast_matrix[i]) for i, column in enumerate([i[1:] for i in design_matrix.columns])])\n",
    "            contrasts = {\n",
    "                'character': (\n",
    "                    (basic_contrasts['word'] + basic_contrasts['number'])/2 - (basic_contrasts['body'] + basic_contrasts['limb'] + basic_contrasts['child']\n",
    "                    + basic_contrasts['adult']+ basic_contrasts['corridor']+ basic_contrasts['house']+ basic_contrasts['car']+ basic_contrasts['instrument'])/8\n",
    "                ), \n",
    "                'body': (\n",
    "                    (basic_contrasts['body'] + basic_contrasts['limb'])/2 - (basic_contrasts['word'] + basic_contrasts['number'] + basic_contrasts['child']\n",
    "                    + basic_contrasts['adult']+ basic_contrasts['corridor']+ basic_contrasts['house']+ basic_contrasts['car']+ basic_contrasts['instrument'])/8\n",
    "                ), \n",
    "                'face': (\n",
    "                    (basic_contrasts['child'] + basic_contrasts['adult'])/2 - (basic_contrasts['body'] + basic_contrasts['limb'] + basic_contrasts['word']\n",
    "                    + basic_contrasts['number']+ basic_contrasts['corridor']+ basic_contrasts['house']+ basic_contrasts['car']+ basic_contrasts['instrument'])/8\n",
    "                ), \n",
    "                'place': (\n",
    "                    (basic_contrasts['corridor'] + basic_contrasts['house'])/2 - (basic_contrasts['body'] + basic_contrasts['limb'] + basic_contrasts['child']\n",
    "                    + basic_contrasts['adult']+ basic_contrasts['word']+ basic_contrasts['number']+ basic_contrasts['car']+ basic_contrasts['instrument'])/8\n",
    "                ), \n",
    "                'object': (\n",
    "                    (basic_contrasts['car'] + basic_contrasts['instrument'])/2 - (basic_contrasts['body'] + basic_contrasts['limb'] + basic_contrasts['child']\n",
    "                    + basic_contrasts['adult']+ basic_contrasts['corridor']+ basic_contrasts['house']+ basic_contrasts['word']+ basic_contrasts['number'])/8\n",
    "                ),     \n",
    "            }\n",
    "            z_score_run = np.zeros((5, 91282))\n",
    "            for index, (contrast_id, contrast_val) in enumerate(contrasts.items()):\n",
    "                # compute contrast-related statistics\n",
    "                contrast = compute_contrast(labels, estimates, contrast_val, contrast_type='t')\n",
    "                # we present the Z-transform of the t map\n",
    "                z_score_run[index] = contrast.z_score()\n",
    "            # save beta\n",
    "            z_score_sub = np.concatenate((z_score_sub, z_score_run[np.newaxis, :, :]), axis=0)\n",
    "            print('Finish estimating in %s %s'%(sub_name, run_name))\n",
    "    z_score_sub = np.delete(z_score_sub, 0, axis=0)\n",
    "    z_score_sub = np.mean(z_score_sub, axis=0)\n",
    "    np.save(z_score_sub_path, z_score_sub.astype(np.float32))\n",
    "    print(f'Finish loading {sub_name}')\n",
    "    z_score_sum[sub_id] = z_score_sub[np.newaxis, :, :]\n",
    "z_score_sum = z_score_sum.mean(axis=0)\n",
    "# save_ciftifile(z_score_sum, pjoin(result_path, 'functional_localizer', f'sub-all_localizer-z_score_s2.dtseries.nii'))\n"
   ]
  },
  {
   "cell_type": "code",
   "execution_count": 10,
   "metadata": {},
   "outputs": [
    {
     "data": {
      "text/plain": [
       "'sub-04'"
      ]
     },
     "execution_count": 10,
     "metadata": {},
     "output_type": "execute_result"
    }
   ],
   "source": [
    "sub_name"
   ]
  },
  {
   "cell_type": "code",
   "execution_count": 3,
   "metadata": {},
   "outputs": [],
   "source": [
    "z_score_sum = nib.load(pjoin(result_path, 'functional_localizer', f'sub-all_localizer-z_score_s2.dtseries.nii')).get_fdata()\n",
    "contrasts = {'character':0, 'face':2}\n",
    "n_contrast = 5 \n",
    "z_threshold = 1.65\n",
    "sub_names = sorted(os.listdir(beh_path))\n",
    "for sub_id, sub_beh_name in enumerate(sub_names):\n",
    "    sub_name = 'sub-' + sub_beh_name.split('_')[0][-2:]\n",
    "    z_score_sub_path = pjoin(beta_path, sub_name, f'{sub_name}_localizer-z_score.npy')\n",
    "    z_score_sub = np.load(z_score_sub_path)\n",
    "    # assign different ROI based on z score value \n",
    "    for contrast_name, contrast_idx in contrasts.items():\n",
    "        contrast_map = np.zeros(91282)\n",
    "        contrast_map[z_score_sub[contrast_idx] > z_threshold] = contrast_idx + 1\n",
    "        save_ciftifile(contrast_map, pjoin(result_path, 'functional_localizer', f'{sub_name}_{contrast_name}_map.dtseries.nii'))"
   ]
  },
  {
   "cell_type": "code",
   "execution_count": 8,
   "metadata": {},
   "outputs": [],
   "source": [
    "##>> scatter plot on animacy map\n",
    "import nibabel as nib\n",
    "import numpy as np\n",
    "from os.path import join as pjoin\n",
    "import matplotlib.pyplot as plt\n",
    "from sklearn.linear_model import LinearRegression\n",
    "clean_code = ''#-{clean_code}\n",
    "animacy_map_path = '/nfs/z1/userhome/GongZhengXin/NVP/NaturalObject/data/code/nodanalysis/inter-subject-animacymap'\n",
    "file = pjoin(animacy_map_path, f'all-sub-clean_s4_t-visnet-map.dtseries.nii')\n",
    "data = nib.load(file).get_fdata()"
   ]
  },
  {
   "cell_type": "code",
   "execution_count": 9,
   "metadata": {},
   "outputs": [
    {
     "data": {
      "text/plain": [
       "('sub-03', 'sub-18')"
      ]
     },
     "execution_count": 9,
     "metadata": {},
     "output_type": "execute_result"
    }
   ],
   "source": [
    "from sklearn.linear_model import LinearRegression\n",
    "a = 2\n",
    "b = 14\n",
    "suba = data[a, np.where(np.isnan(data[a,:])==0)]\n",
    "subb = data[b,np.where(np.isnan(data[b,:])==0)]\n",
    "Lr = LinearRegression()\n",
    "Lr.fit(suba.transpose(), subb.transpose())\n",
    "pred = Lr.predict(suba.transpose())\n",
    "beta_path = '/nfs/z1/zhenlab/BrainImageNet/NaturalObject/data/bold/derivatives/beta'\n",
    "sub_names = sorted([i for i in os.listdir(beta_path) if i.startswith('sub') and int(i[-2:])!=7])\n",
    "sub_names[a], sub_names[b]"
   ]
  },
  {
   "cell_type": "code",
   "execution_count": 10,
   "metadata": {},
   "outputs": [
    {
     "data": {
      "text/plain": [
       "(-6.6636024713516235,\n",
       " 7.394996762275696,\n",
       " -5.852249884605408,\n",
       " 6.9228708982467655)"
      ]
     },
     "execution_count": 10,
     "metadata": {},
     "output_type": "execute_result"
    },
    {
     "data": {
      "image/png": "[encoded data removed]",
      "text/plain": [
       "<Figure size 504x504 with 1 Axes>"
      ]
     },
     "metadata": {
      "needs_background": "light"
     },
     "output_type": "display_data"
    }
   ],
   "source": [
    "plt.figure(figsize=(7,7))\n",
    "plt.scatter(suba, subb, color='gray', alpha=0.2)\n",
    "plt.plot(suba.transpose(), pred, color='red', label=f'$r={np.round(np.corrcoef(suba,subb)[0,1]*1000)/1000}$')\n",
    "plt.legend()\n",
    "plt.axis('equal')\n"
   ]
  },
  {
   "cell_type": "code",
   "execution_count": 7,
   "metadata": {},
   "outputs": [
    {
     "data": {
      "text/plain": [
       "array([[ 1.        , -0.01122273],\n",
       "       [-0.01122273,  1.        ]])"
      ]
     },
     "execution_count": 7,
     "metadata": {},
     "output_type": "execute_result"
    }
   ],
   "source": [
    "np.corrcoef(suba,subb)"
   ]
  },
  {
   "cell_type": "code",
   "execution_count": 21,
   "metadata": {},
   "outputs": [
    {
     "data": {
      "text/plain": [
       "('sub-03', 'sub-18')"
      ]
     },
     "execution_count": 21,
     "metadata": {},
     "output_type": "execute_result"
    }
   ],
   "source": []
  },
  {
   "cell_type": "code",
   "execution_count": 6,
   "metadata": {},
   "outputs": [],
   "source": [
    "calc_input = data\n",
    "if np.isnan(calc_input).sum():\n",
    "    del_column = np.where(np.isnan(calc_input)==1)[1]\n",
    "    calc_input = np.delete(calc_input, del_column, axis=1)\n",
    "iss = np.corrcoef(calc_input)"
   ]
  },
  {
   "cell_type": "code",
   "execution_count": 24,
   "metadata": {},
   "outputs": [
    {
     "data": {
      "image/png": "[encoded data removed]",
      "text/plain": [
       "<Figure size 720x720 with 2 Axes>"
      ]
     },
     "metadata": {
      "needs_background": "light"
     },
     "output_type": "display_data"
    }
   ],
   "source": [
    "fig, ax = plt.subplots(1,1,figsize=(10,10))\n",
    "im = ax.imshow(iss, cmap='coolwarm', vmin=-0.1, vmax=0.1)\n",
    "cbar = fig.colorbar(im, ax=ax, orientation='vertical', shrink=0.8)"
   ]
  },
  {
   "cell_type": "code",
   "execution_count": 13,
   "metadata": {},
   "outputs": [
    {
     "data": {
      "text/plain": [
       "array([0.35882321, 0.31555923, 0.21484233, 0.30328539, 0.3278989 ,\n",
       "       0.26489333, 0.31162079, 0.28583923, 0.26509024, 0.28523821,\n",
       "       0.19949855, 0.27718864, 0.33598162, 0.27805958, 0.22946056,\n",
       "       0.28747677, 0.25789604, 0.23309217, 0.30898671, 0.28437755,\n",
       "       0.23144276, 0.2153204 , 0.29183759, 0.30362506, 0.3507258 ,\n",
       "       0.24724455, 0.24579767, 0.25097688, 0.28113723, 0.29638438])"
      ]
     },
     "execution_count": 13,
     "metadata": {},
     "output_type": "execute_result"
    }
   ],
   "source": [
    "(iss[0:30,0:30].sum(axis=1) - 1)/29"
   ]
  },
  {
   "cell_type": "code",
   "execution_count": 11,
   "metadata": {},
   "outputs": [],
   "source": [
    "pair_visual_iss = iss[np.tril_indices(30,-1)]"
   ]
  },
  {
   "cell_type": "code",
   "execution_count": 12,
   "metadata": {},
   "outputs": [
    {
     "data": {
      "text/plain": [
       "(array([ 0, 12]), array([12,  0]))"
      ]
     },
     "execution_count": 12,
     "metadata": {},
     "output_type": "execute_result"
    }
   ],
   "source": [
    "np.where(iss==np.max(pair_visual_iss))"
   ]
  },
  {
   "cell_type": "code",
   "execution_count": 10,
   "metadata": {},
   "outputs": [
    {
     "data": {
      "text/plain": [
       "array([10, 14, 21,  2, 20, 17, 25, 26, 27,  8, 16,  5, 28,  9, 19, 11, 15,\n",
       "        3, 13, 29, 18, 22, 23,  7,  4,  6,  1, 12,  0, 24, 30])"
      ]
     },
     "execution_count": 10,
     "metadata": {},
     "output_type": "execute_result"
    }
   ],
   "source": [
    "np.argsort(iss[-1,:])"
   ]
  },
  {
   "cell_type": "code",
   "execution_count": 68,
   "metadata": {},
   "outputs": [
    {
     "data": {
      "text/plain": [
       "array([0.37221813, 0.42337663, 0.43611747, 0.43872842, 0.4542361 ,\n",
       "       0.46282818, 0.4651248 , 0.47242596, 0.5009495 , 0.50470972,\n",
       "       0.5070092 , 0.51423166, 0.52962342, 0.52984902, 0.5301051 ,\n",
       "       0.54167592, 0.54222807, 0.55073404, 0.55923275, 0.56408277,\n",
       "       0.56504905, 0.56802487, 0.57203783, 0.58886937, 0.59515771,\n",
       "       0.5953371 , 0.61131442, 0.62195792, 0.64504706, 0.65338397,\n",
       "       1.        ])"
      ]
     },
     "execution_count": 68,
     "metadata": {},
     "output_type": "execute_result"
    }
   ],
   "source": [
    "np.sort(iss[-1,:])"
   ]
  },
  {
   "cell_type": "code",
   "execution_count": null,
   "metadata": {},
   "outputs": [],
   "source": []
  }
 ],
 "metadata": {
  "interpreter": {
   "hash": "ded51e6ae5fb79fea0b0420ae45d65595baa7e9f6ec8445524f1c7cb23aaaa4c"
  },
  "kernelspec": {
   "display_name": "Python 3",
   "language": "python",
   "name": "python3"
  },
  "language_info": {
   "codemirror_mode": {
    "name": "ipython",
    "version": 3
   },
   "file_extension": ".py",
   "mimetype": "text/x-python",
   "name": "python",
   "nbconvert_exporter": "python",
   "pygments_lexer": "ipython3",
   "version": "3.8.5 (default, Sep  4 2020, 07:30:14) \n[GCC 7.3.0]"
  }
 },
 "nbformat": 4,
 "nbformat_minor": 2
}
